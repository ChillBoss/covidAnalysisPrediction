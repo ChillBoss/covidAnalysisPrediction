{
 "cells": [
  {
   "cell_type": "markdown",
   "metadata": {},
   "source": [
    "About this Dataset\n",
    "\n",
    "These datasets explored in these analyzes below are provided by Johns Hopkins University, a renowned institution in the United States that is at the forefront of data collected worldwide about Covid-19.  I also collect data from the Kaggle platform, where it gathers users from all over the world collaborating with real data and from reliable sources.\n",
    "\n",
    "All datasets explored have information with daily updates on the numbers of confirmed cases, deaths and recovery from Covid-19. Note that they are time series data and the numbers of cases on a given day are cumulative numbers.\n",
    "\n",
    "\n",
    "About this Analysis\n",
    "\n",
    "It is an exploratory analysis in order to discover relations, patterns, behaviors, trends and predictions, through answers to questions related to the data for be to analyzed.  The objective is also to observe the main characteristics of the data that reveal really objective and clear information, frequently by visual methods, so that they are understood.\n",
    "\n",
    "The Python programming language will be used to apply statistical techniques and machine learning algorithms.\n",
    "\n",
    "---\n",
    "\n",
    "\n",
    "Fontes | Sources (Datasets): \n",
    "\n",
    "Johns Hopkins University:\n",
    "https://coronavirus.jhu.edu/\n",
    "\n",
    "Kaggle:\n",
    "https://www.kaggle.com/sudalairajkumar/novel-corona-virus-2019-dataset\n",
    "https://www.kaggle.com/unanimad/corona-virus-brazil\n",
    "\n",
    "All datasets on github:\n",
    "\n",
    "https://github.com/CSSEGISandData/COVID-19/tree/master/csse_covid_19_data/csse_covid_19_time_series\n",
    "https://github.com/niltontac/EspAnalise-EngDados/tree/master/data/Novel_Corona_Virus_2019_Dataset\n",
    "https://github.com/niltontac/EspAnalise-EngDados/tree/master/data/covid19_brazil_data\n",
    "\n"
   ]
  },
  {
   "cell_type": "markdown",
   "metadata": {},
   "source": [
    "# Covid-19 - Exploratory Analysis and Predictions\n",
    "\n",
    "\n",
    "\n",
    "![](https://i.ibb.co/txCZFvr/3-D-medical-animation-coronavirus-structure.jpg)"
   ]
  },
  {
   "cell_type": "markdown",
   "metadata": {},
   "source": [
    "Import Libraries"
   ]
  },
  {
   "cell_type": "code",
   "execution_count": null,
   "metadata": {},
   "outputs": [],
   "source": [
    "import pandas as pd\n",
    "import numpy as np\n",
    "import matplotlib.pyplot as plt\n",
    "import seaborn as sns\n",
    "import plotly.graph_objects as go\n",
    "import seaborn as snsfrom fbprophet.plot import add_changepoints_to_plot\n",
    "import plotly as py\n",
    "import plotly.express as px\n",
    "\n",
    "from fbprophet.plot import plot_plotly\n",
    "from fbprophet import Prophet\n",
    "\n",
    "\n",
    "import warnings\n",
    "warnings.filterwarnings('ignore')"
   ]
  },
  {
   "cell_type": "markdown",
   "metadata": {},
   "source": [
    "Loading dataset\n",
    "\n",
    "Last Update 04/20/2020"
   ]
  },
  {
   "cell_type": "code",
   "execution_count": null,
   "metadata": {},
   "outputs": [],
   "source": [
    "covid19confirmed = pd.read_csv('../input/from-john-hopkins-university/time_series_covid19_confirmed_global.csv')\n",
    "\n",
    "covid19recovered = pd.read_csv('../input/from-john-hopkins-university/time_series_covid19_recovered_global.csv')\n",
    "\n",
    "covid19deaths = pd.read_csv('../input/from-john-hopkins-university/time_series_covid19_deaths_global.csv')\n",
    "\n",
    "covid19 = pd.read_csv('../input/novel-corona-virus-2019-dataset/covid_19_data.csv', parse_dates=['ObservationDate', 'Last Update'])\n",
    "\n",
    "covid19Brazil = pd.read_csv('../input/corona-virus-brazil/brazil_covid19.csv')"
   ]
  },
  {
   "cell_type": "markdown",
   "metadata": {},
   "source": [
    "Data Processing"
   ]
  },
  {
   "cell_type": "code",
   "execution_count": null,
   "metadata": {},
   "outputs": [],
   "source": [
    "#Checking the last 5 records to confirm when each dataset was updated:\n",
    "\n",
    "print('covid19confirmed:')\n",
    "print(covid19confirmed.tail())\n",
    "\n",
    "###\n",
    "\n",
    "print('covid19recovered:')\n",
    "print(covid19recovered.tail())\n",
    "\n",
    "###\n",
    "\n",
    "print('covid19deaths:')\n",
    "print(covid19deaths.tail())\n",
    "\n",
    "###\n",
    "\n",
    "print('covid19:')\n",
    "print(covid19.tail())\n",
    "\n",
    "###\n",
    "\n",
    "print('covid19Brazil:')\n",
    "print(covid19Brazil.tail())\n",
    "\n",
    "###"
   ]
  },
  {
   "cell_type": "code",
   "execution_count": null,
   "metadata": {},
   "outputs": [],
   "source": [
    "#Rename column \"ObservationDate\" to 'Date'\n",
    "\n",
    "covid19 = covid19.rename(columns={'ObservationDate' : 'Date'})"
   ]
  },
  {
   "cell_type": "code",
   "execution_count": null,
   "metadata": {},
   "outputs": [],
   "source": [
    "#Dataset dimensions (rows vs columns)\n",
    "\n",
    "print('covid19confirmed:')\n",
    "print(covid19confirmed.shape)\n",
    "\n",
    "###\n",
    "\n",
    "print('covid19recovered:')\n",
    "print(covid19recovered.shape)\n",
    "\n",
    "###\n",
    "\n",
    "print('covid19deaths:')\n",
    "print(covid19deaths.shape)\n",
    "\n",
    "###\n",
    "\n",
    "print('covid19:')\n",
    "print(covid19.shape)\n",
    "\n",
    "###\n",
    "\n",
    "print('covid19Brazil:')\n",
    "print(covid19Brazil.shape)\n",
    "\n",
    "###"
   ]
  },
  {
   "cell_type": "code",
   "execution_count": null,
   "metadata": {},
   "outputs": [],
   "source": [
    "#Checking for null or missing data values in each dataset\n",
    "\n",
    "print('covid19confirmed:')\n",
    "print(pd.DataFrame(covid19confirmed.isnull().sum()))\n",
    "\n",
    "###\n",
    "print('covid19recovered:')\n",
    "print(pd.DataFrame(covid19recovered.isnull().sum()))\n",
    "\n",
    "###\n",
    "\n",
    "print('covid19deaths:')\n",
    "print(pd.DataFrame(covid19deaths.isnull().sum()))\n",
    "\n",
    "###\n",
    "\n",
    "print('covid19:')\n",
    "print(pd.DataFrame(covid19.isnull().sum()))\n",
    "\n",
    "###\n",
    "\n",
    "print('covid19Brazil:')\n",
    "print(pd.DataFrame(covid19Brazil.isnull().sum()))\n",
    "\n",
    "###"
   ]
  },
  {
   "cell_type": "code",
   "execution_count": null,
   "metadata": {},
   "outputs": [],
   "source": [
    "#Some dataset have null or missings data values, then let's replace to \"unknow\" values\n",
    "\n",
    "covid19confirmed = covid19confirmed.fillna('unknow') \n",
    "covid19recovered = covid19recovered.fillna('unknow')\n",
    "covid19deaths = covid19deaths.fillna('unknow')\n",
    "covid19 = covid19.fillna('unknow')"
   ]
  },
  {
   "cell_type": "markdown",
   "metadata": {},
   "source": [
    "Plotly Visualizations: Exploratory Data Analysis and Predictions in the World and Brazil.\n",
    "\n",
    "Worldwide:"
   ]
  },
  {
   "cell_type": "markdown",
   "metadata": {},
   "source": [
    ">Interactive Graph - Q01: \n",
    "\n",
    ">Total number of confirmed, death and recovered cases of people around the world"
   ]
  },
  {
   "cell_type": "code",
   "execution_count": null,
   "metadata": {},
   "outputs": [],
   "source": [
    "all_cases_world = covid19.groupby('Date')['Confirmed', 'Deaths', 'Recovered'].sum()\n",
    "all_cases_world = all_cases_world.reset_index()\n",
    "all_cases_world = all_cases_world.sort_values('Date', ascending=False)\n",
    "\n",
    "fig = go.Figure()\n",
    "fig.update_layout(title_text='Total number of confirmed, deaths and recovered cases in the World', \n",
    "                  xaxis_title='Period Date', yaxis_title='Total Cases', template='plotly_dark')\n",
    "\n",
    "fig.add_trace(go.Scatter(x=all_cases_world['Date'],\n",
    "                        y=all_cases_world['Confirmed'],\n",
    "                        mode='lines+markers',\n",
    "                        name='Global Confirmed',\n",
    "                        line=dict(color='yellow', width=2)))\n",
    "\n",
    "fig.add_trace(go.Scatter(x=all_cases_world['Date'],\n",
    "                        y=all_cases_world['Deaths'],\n",
    "                        mode='lines+markers',\n",
    "                        name='Global Deaths',\n",
    "                        line=dict(color='red', width=2)))\n",
    "\n",
    "fig.add_trace(go.Scatter(x=all_cases_world['Date'],\n",
    "                        y=all_cases_world['Recovered'],\n",
    "                        mode='lines+markers',\n",
    "                        name='Global Recovered',\n",
    "                        line=dict(color='green', width=2)))\n",
    "\n",
    "\n",
    "fig.show()"
   ]
  },
  {
   "cell_type": "markdown",
   "metadata": {},
   "source": [
    "> Interactive Graph - Q02: \n",
    "\n",
    ">Global rate for growth confirmed, deaths and recovered cases"
   ]
  },
  {
   "cell_type": "code",
   "execution_count": null,
   "metadata": {},
   "outputs": [],
   "source": [
    "global_rate = covid19.groupby(['Date']).agg({'Confirmed':['sum'],'Deaths':['sum'], 'Recovered': ['sum']})\n",
    "global_rate.columns = ['Global_Confirmed', 'Global_Deaths', 'Global_Recovered']\n",
    "global_rate = global_rate.reset_index()\n",
    "global_rate['Increase_New_Cases_by_Day'] = global_rate['Global_Confirmed'].diff().shift(-1)\n",
    "\n",
    "#Calculating rates\n",
    "#Lambda function\n",
    "global_rate['Global_Deaths_rate_%'] = global_rate.apply(lambda row: ((row.Global_Deaths)/(row.Global_Confirmed))*100, axis=1).round(2)\n",
    "global_rate['Global_Recovered_rate_%'] = global_rate.apply(lambda row: ((row.Global_Recovered)/(row.Global_Confirmed))*100, axis=1).round(2)\n",
    "global_rate['Global_Growth_rate_%'] = global_rate.apply(lambda row: row.Increase_New_Cases_by_Day/row.Global_Confirmed*100, axis=1).round(2)\n",
    "global_rate['Global_Growth_rate_%'] = global_rate['Global_Growth_rate_%'].shift(+1)\n",
    "\n",
    "fig = go.Figure()\n",
    "fig.update_layout(title_text='Global rate of growth confirmed, deaths and recovered cases',\n",
    "                 xaxis_title='Period Date', yaxis_title='Rate', template='plotly_dark')\n",
    "\n",
    "fig.add_trace(go.Scatter(x=global_rate['Date'],\n",
    "                        y=global_rate['Global_Growth_rate_%'],\n",
    "                        mode='lines+markers',\n",
    "                        name='Global Growth Confirmed rate %',\n",
    "                        line=dict(color='yellow', width=2)))\n",
    "\n",
    "fig.add_trace(go.Scatter(x=global_rate['Date'],\n",
    "                        y=global_rate['Global_Deaths_rate_%'],\n",
    "                        mode='lines+markers',\n",
    "                        name='Global Deaths rate %',\n",
    "                        line=dict(color='red', width=2)))\n",
    "\n",
    "fig.add_trace(go.Scatter(x=global_rate['Date'],\n",
    "                        y=global_rate['Global_Recovered_rate_%'],\n",
    "                        mode='lines+markers',\n",
    "                        name='Global Recovered rate %',\n",
    "                        line=dict(color='green', width=2)))\n",
    "\n",
    "fig.show()"
   ]
  },
  {
   "cell_type": "markdown",
   "metadata": {},
   "source": [
    "> Table 01 - Q3: \n",
    "\n",
    ">Total confirmed, deaths, recovered and increase new confirmed cases by day"
   ]
  },
  {
   "cell_type": "code",
   "execution_count": null,
   "metadata": {},
   "outputs": [],
   "source": [
    "global_rate.loc[:,['Date','Global_Confirmed', 'Global_Deaths', 'Global_Recovered', 'Increase_New_Cases_by_Day']].tail()"
   ]
  },
  {
   "cell_type": "markdown",
   "metadata": {},
   "source": [
    "> Table 02 - Q4 & Q5:\n",
    "\n",
    "> Total numbers confirmed, deaths, recovered, active cases and mortality rate by Country"
   ]
  },
  {
   "cell_type": "code",
   "execution_count": null,
   "metadata": {},
   "outputs": [],
   "source": [
    "last_update = '4/20/20'\n",
    "global_cases = covid19confirmed\n",
    "global_cases = global_cases[['Country/Region', last_update]]\n",
    "global_cases = global_cases.groupby('Country/Region').sum().sort_values(by=last_update, ascending=False)\n",
    "global_cases['Confirmed'] = covid19confirmed[['Country/Region', last_update]].groupby('Country/Region').sum().sort_values(by=last_update, ascending=False)\n",
    "global_cases['Recovered'] = covid19recovered[['Country/Region', last_update]].groupby('Country/Region').sum().sort_values(by=last_update, ascending=False)\n",
    "global_cases['Deaths'] = covid19deaths[['Country/Region', last_update]].groupby('Country/Region').sum().sort_values(by=last_update, ascending=False)\n",
    "global_cases['Active'] = global_cases[last_update] - global_cases['Recovered'] - global_cases['Deaths']\n",
    "global_cases['Mortality_Rate_%'] = ((global_cases['Deaths'])/(global_cases['Confirmed'])*100).round(2)\n",
    "global_cases = global_cases.loc[:,['Confirmed', 'Deaths', 'Recovered', 'Active', 'Mortality_Rate_%']]\n",
    "global_cases.head(50)"
   ]
  },
  {
   "cell_type": "markdown",
   "metadata": {},
   "source": [
    "Global predictions using Machine Learning Algorithm - Prophet - procedure for forecasting time series data"
   ]
  },
  {
   "cell_type": "code",
   "execution_count": null,
   "metadata": {},
   "outputs": [],
   "source": [
    "prediction = covid19.copy()\n",
    "\n",
    "prediction = prediction.groupby(['Date', 'Country/Region']).agg({'Confirmed':['sum'], 'Deaths':['sum'], 'Recovered':['sum']})\n",
    "prediction.columns = ['Confirmed', 'Deaths', 'Recovered']\n",
    "prediction = prediction.reset_index()\n",
    "prediction = prediction[prediction.Confirmed!=0]\n",
    "prediction = prediction[prediction.Deaths!=0]\n",
    "\n",
    "#Prevent division by zero\n",
    "def ifNull(d):\n",
    "    temp=1\n",
    "    if d!=0:\n",
    "        temp=d\n",
    "    return temp\n",
    "\n",
    "prediction['mortality_rate'] = prediction.apply(lambda row: ((row.Deaths+1)/ifNull((row.Confirmed)))*100, axis=1)"
   ]
  },
  {
   "cell_type": "code",
   "execution_count": null,
   "metadata": {},
   "outputs": [],
   "source": [
    "floorVar = 0\n",
    "worldPop = 10000000\n",
    "\n",
    "#Modelling total confirmed cases \n",
    "confirmed_train_dataset = pd.DataFrame(covid19.groupby('Date')['Confirmed'].sum().reset_index()).rename(columns={'Date': 'ds', 'Confirmed': 'y'})\n",
    "confirmed_train_dataset['floor'] = floorVar\n",
    "confirmed_train_dataset['cap'] = worldPop\n",
    "\n",
    "#Modelling deaths\n",
    "deaths_train_dataset = pd.DataFrame(covid19.groupby('Date')['Deaths'].sum().reset_index()).rename(columns={'Date': 'ds', 'Deaths': 'y'})\n",
    "deaths_train_dataset['floor'] = 0\n",
    "deaths_train_dataset['cap'] = 2500\n",
    "\n",
    "#Modelling mortality rate\n",
    "mortality_train_dataset = pd.DataFrame(prediction.groupby('Date')['mortality_rate'].mean().reset_index()).rename(columns={'Date': 'ds', 'mortality_rate': 'y'})"
   ]
  },
  {
   "cell_type": "code",
   "execution_count": null,
   "metadata": {},
   "outputs": [],
   "source": [
    "#Total dataframe model\n",
    "m = Prophet(\n",
    "    growth=\"logistic\",\n",
    "    interval_width=0.98,\n",
    "    yearly_seasonality=False,\n",
    "    weekly_seasonality=False,\n",
    "    seasonality_mode='additive')\n",
    "\n",
    "m.fit(confirmed_train_dataset)\n",
    "future = m.make_future_dataframe(periods=50)\n",
    "future['cap'] = worldPop\n",
    "future['floor'] = floorVar\n",
    "confirmed_forecast = m.predict(future)\n",
    "\n",
    "#Mortality rate model\n",
    "m_mortality = Prophet()\n",
    "m_mortality.fit(mortality_train_dataset)\n",
    "mortality_future = m_mortality.make_future_dataframe(periods=31)\n",
    "mortality_forecast = m_mortality.predict(mortality_future)\n",
    "\n",
    "#Deaths model\n",
    "m2 = Prophet(\n",
    "    growth=\"logistic\",\n",
    "    interval_width=0.95)\n",
    "m2.fit(deaths_train_dataset)\n",
    "future2 = m2.make_future_dataframe(periods=7)\n",
    "future2['cap'] = 2500\n",
    "future2['floor'] = 0\n",
    "deaths_forecast = m2.predict(future2)"
   ]
  },
  {
   "cell_type": "markdown",
   "metadata": {},
   "source": [
    "> Interactive Graphs - Q6: \n",
    "\n",
    "> Forecast of the covid-19 progress in the world to Confirmed cases"
   ]
  },
  {
   "cell_type": "code",
   "execution_count": null,
   "metadata": {},
   "outputs": [],
   "source": [
    "fig = plot_plotly(m, confirmed_forecast)\n",
    "annotations = []\n",
    "annotations.append(dict(xref='paper', yref='paper', x=0.0, y=1.10,\n",
    "                       xanchor='left', yanchor='bottom',\n",
    "                       text='Total predictions to Confirmed cases in the World',\n",
    "                       font=dict(family='Arial',\n",
    "                                size=25,\n",
    "                                color='rgb(37,37,37)'),\n",
    "                       showarrow=False))\n",
    "fig.update_layout(annotations=annotations)\n",
    "fig"
   ]
  },
  {
   "cell_type": "markdown",
   "metadata": {},
   "source": [
    "> Interactive Graphs - Q6:\n",
    "\n",
    "> Forecast of the covid-19 progress in the world to Deaths cases"
   ]
  },
  {
   "cell_type": "code",
   "execution_count": null,
   "metadata": {},
   "outputs": [],
   "source": [
    "fig_deaths = plot_plotly(m2, deaths_forecast)\n",
    "annotations = []\n",
    "annotations.append(dict(xref='paper', yref='paper', x=0.0, y=1.10,\n",
    "                       xanchor='left', yanchor='bottom',\n",
    "                       text='Total predictions to Deaths in the World',\n",
    "                       font=dict(family='Arial',\n",
    "                                size=25,\n",
    "                                color='rgb(37,37,37)'),\n",
    "                       showarrow=False))\n",
    "fig_deaths.update_layout(annotations=annotations)\n",
    "fig_deaths"
   ]
  },
  {
   "cell_type": "markdown",
   "metadata": {},
   "source": [
    "> Interactive Graph - Q7:\n",
    "\n",
    "> Forecast to lethality rate in the World"
   ]
  },
  {
   "cell_type": "code",
   "execution_count": null,
   "metadata": {},
   "outputs": [],
   "source": [
    "fig_lethality = plot_plotly(m_mortality, mortality_forecast)\n",
    "annotations = []\n",
    "annotations.append(dict(xref='paper', yref='paper', x=0.0, y=1.10,\n",
    "                       xanchor='left', yanchor='bottom',\n",
    "                       text='Predictions of the lethality rate in the World',\n",
    "                       font=dict(family='Arial',\n",
    "                                size=25,\n",
    "                                color='rgb(37,37,37)'),\n",
    "                       showarrow=False))\n",
    "fig_lethality.update_layout(annotations=annotations)\n",
    "fig_lethality"
   ]
  },
  {
   "cell_type": "markdown",
   "metadata": {},
   "source": [
    "Brazil\n",
    "\n",
    "> Analysis of the advancement of covid-19 in Brazil"
   ]
  },
  {
   "cell_type": "code",
   "execution_count": null,
   "metadata": {},
   "outputs": [],
   "source": [
    "Brazil_cases = covid19.copy()\n",
    "Brazil_cases = covid19.loc[covid19['Country/Region']=='Brazil']\n",
    "Brazil_cases = Brazil_cases.groupby(['Date', 'Country/Region']).agg({'Confirmed':['sum'], 'Deaths':['sum'], 'Recovered':['sum']}).sort_values('Date', ascending=False)\n",
    "Brazil_cases.columns = ['Confirmed', 'Deaths', 'Recovered']\n",
    "Brazil_cases = Brazil_cases.reset_index()\n",
    "Brazil_cases['Confirmed_New_Daily_Cases'] = Brazil_cases['Confirmed'].diff().shift(-1)\n",
    "Brazil_cases['Deaths_New_Daily_Cases'] = Brazil_cases['Deaths'].diff().shift(-1)\n",
    "Brazil_cases['Recovered_New_Daily_Cases'] = Brazil_cases['Recovered'].diff().shift(-1)\n",
    "Brazil_cases_confirmed = Brazil_cases[Brazil_cases['Confirmed']!=0]\n",
    "#Brazil_cases_confirmed"
   ]
  },
  {
   "cell_type": "markdown",
   "metadata": {},
   "source": [
    "> Interactive Graph - Q8:\n",
    "\n",
    "> Question..."
   ]
  },
  {
   "cell_type": "code",
   "execution_count": null,
   "metadata": {},
   "outputs": [],
   "source": [
    "fig = go.Figure()\n",
    "fig.update_layout(title_text='Confirmed, Deaths and Recoveries cases in Brazil',\n",
    "                 xaxis_title='Period Date', yaxis_title='Cases', template='plotly_dark')\n",
    "\n",
    "fig.add_trace(go.Scatter(x=Brazil_cases_confirmed['Date'],\n",
    "                        y=Brazil_cases_confirmed['Confirmed'],\n",
    "                        mode='lines+markers',\n",
    "                        name='Brazil Confirmed Cases',\n",
    "                        line=dict(color='yellow', width=2)))\n",
    "\n",
    "fig.add_trace(go.Scatter(x=Brazil_cases_confirmed['Date'],\n",
    "                        y=Brazil_cases_confirmed['Deaths'],\n",
    "                        mode='lines+markers',\n",
    "                        name='Brazil Deaths Cases',\n",
    "                        line=dict(color='red', width=2)))\n",
    "\n",
    "fig.add_trace(go.Scatter(x=Brazil_cases_confirmed['Date'],\n",
    "                        y=Brazil_cases_confirmed['Recovered'],\n",
    "                        mode='lines+markers',\n",
    "                        name='Brazil Recovered Cases',\n",
    "                        line=dict(color='green', width=2)))\n",
    "\n",
    "fig.show()"
   ]
  },
  {
   "cell_type": "markdown",
   "metadata": {},
   "source": [
    "> Interactive Graph - Q?:\n",
    "\n",
    "> Question..."
   ]
  },
  {
   "cell_type": "code",
   "execution_count": null,
   "metadata": {},
   "outputs": [],
   "source": [
    "Brazil_cases_rate = covid19.copy()\n",
    "Brazil_cases_rate = covid19.loc[covid19['Country/Region']=='Brazil']\n",
    "Brazil_cases_rate = Brazil_cases.groupby(['Date', 'Country/Region']).agg({'Confirmed':['sum'], 'Deaths':['sum'], 'Recovered':['sum']}).sort_values('Date', ascending=False)\n",
    "Brazil_cases_rate.columns = ['Confirmed', 'Deaths', 'Recovered']\n",
    "Brazil_cases_rate = Brazil_cases_rate.reset_index()\n",
    "Brazil_cases_rate['Confirmed_New_Daily_Cases'] = Brazil_cases_rate['Confirmed'].diff().shift(-1)\n",
    "Brazil_cases_rate = Brazil_cases_rate[Brazil_cases_rate.Confirmed!=0]\n",
    "Brazil_cases_rate = Brazil_cases_rate[Brazil_cases_rate.Deaths!=0]\n",
    "\n",
    "#Prevent division by zero\n",
    "\n"
   ]
  }
 ],
 "metadata": {
  "kernelspec": {
   "display_name": "Python 3",
   "language": "python",
   "name": "python3"
  },
  "language_info": {
   "codemirror_mode": {
    "name": "ipython",
    "version": 3
   },
   "file_extension": ".py",
   "mimetype": "text/x-python",
   "name": "python",
   "nbconvert_exporter": "python",
   "pygments_lexer": "ipython3",
   "version": "3.7.6"
  }
 },
 "nbformat": 4,
 "nbformat_minor": 4
}
