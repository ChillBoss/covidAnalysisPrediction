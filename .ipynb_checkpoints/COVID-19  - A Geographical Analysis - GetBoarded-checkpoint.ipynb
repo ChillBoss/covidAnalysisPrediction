{
 "cells": [
  {
   "cell_type": "code",
   "execution_count": null,
   "metadata": {
    "_kg_hide-input": true,
    "_kg_hide-output": true
   },
   "outputs": [],
   "source": [
    "# This Python 3 environment comes with many helpful analytics libraries installed\n",
    "\n",
    "import numpy as np # linear algebra\n",
    "import pandas as pd # data processing, CSV file I/O (e.g. pd.read_csv)\n",
    "\n",
    "# Input data files are available in the \"../input/\" directory.\n",
    "# For example, running this (by clicking run or pressing Shift+Enter) will list all files under the input directory\n",
    "\n",
    "import os\n",
    "for dirname, _, filenames in os.walk('/kaggle/input'):\n",
    "    for filename in filenames:\n",
    "        print(os.path.join(dirname, filename))\n",
    "\n",
    "# Any results you write to the current directory are saved as output."
   ]
  },
  {
   "cell_type": "markdown",
   "metadata": {},
   "source": [
    "# What is Coronavirus?\n",
    "\n",
    "    Coronaviruses (CoV) are a large family of viruses that cause illness ranging from the common cold to more severe \n",
    "    diseases such as Middle East Respiratory Syndrome (MERS-CoV) and Severe Acute Respiratory Syndrome (SARS-CoV). \n",
    "    A novel coronavirus (nCoV) is a new strain that has not been previously identified in humans.  \n",
    "\n",
    "    Coronaviruses are zoonotic, meaning they are transmitted between animals and people.  Detailed investigations found \n",
    "    that SARS-CoV was transmitted from civet cats to humans and MERS-CoV from dromedary camels to humans. Several \n",
    "    known coronaviruses are circulating in animals that have not yet infected humans. \n",
    "\n",
    "    Common signs of infection include respiratory symptoms, fever, cough, shortness of breath and breathing difficulties.\n",
    "    In more severe cases, infection can cause pneumonia, severe acute respiratory syndrome, kidney failure and even death. \n",
    "\n",
    "    Standard recommendations to prevent infection spread include regular hand washing, covering mouth and nose when coughing\n",
    "    and sneezing, thoroughly cooking meat and eggs. Avoid close contact with anyone showing symptoms of respiratory illness\n",
    "    such as coughing and sneezing.\n",
    "\n",
    "\n",
    "    The World Health Organization has declared the novel coronavirus outbreak a public health emergency, it has increased \n",
    "    the general fear among the public. A lot of countires have heightened their measures to fight with this virus with the \n",
    "    condition in China still senitive..More than 20 countries and territories outside of mainland China have confirmed cases \n",
    "    of the virus -- spanning Asia, Europe, North America and the Middle East -- as India, Italy and the Philippines reported \n",
    "    their first cases.\n",
    "\n",
    "\n",
    "\n",
    "# Data Source\n",
    "\n",
    "1. The data has been shared in kaggle @ https://www.kaggle.com/sudalairajkumar/novel-corona-virus-2019-dataset.\n",
    "\n",
    "\n",
    "2. Real time data on everyday basis is also made available by the Johns Hopkins university @ \n",
    "    https://github.com/CSSEGISandData/COVID-19\n",
    "\n",
    "\n",
    "# Interactive Real Time Data Visualizations\n",
    "\n",
    "1. An Interactive real time data visualization provided by the Johns Hopkins University - https://arcg.is/0fHmTX\n",
    "\n",
    "\n",
    "2. An interactive web-based dashboard to track COVID-19 in real time -    https://www.thelancet.com/journals/laninf/article/PIIS1473-3099(20)30120-1/fulltext\n",
    "\n",
    "\n",
    "3. Real time data visuals - https://www.worldometers.info/coronavirus/\n",
    "\n",
    "\n",
    "4. World Health Organization Coverage on Covid-19 - https://www.who.int/health-topics/coronavirus\n",
    "\n",
    "\n",
    "\n"
   ]
  },
  {
   "cell_type": "markdown",
   "metadata": {},
   "source": [
    "# Getting Started - Import Required Packages & Libraries"
   ]
  },
  {
   "cell_type": "code",
   "execution_count": null,
   "metadata": {
    "_kg_hide-input": true,
    "_kg_hide-output": true
   },
   "outputs": [],
   "source": [
    "# import the necessary libraries\n",
    "\n",
    "import numpy as np \n",
    "import pandas as pd\n",
    "from datetime import date\n",
    "import matplotlib.pyplot as plt\n",
    "import seaborn as sns\n",
    "from IPython.display import Markdown\n",
    "import plotly.graph_objs as go\n",
    "import plotly.offline as py\n",
    "from plotly.subplots import make_subplots\n",
    "import plotly.express as px\n",
    "from plotly.offline import init_notebook_mode, plot, iplot, download_plotlyjs\n",
    "import plotly as ply\n",
    "import pycountry\n",
    "import folium \n",
    "from folium import plugins\n",
    "import json\n",
    "from folium.plugins import HeatMap, HeatMapWithTime\n",
    "\n",
    "\n",
    "%config InlineBackend.figure_format = 'retina'\n",
    "init_notebook_mode(connected=True)\n",
    "\n",
    "\n",
    "# Utility Functions\n",
    "\n",
    "'''Display markdown formatted output like bold, italic bold etc.'''\n",
    "def formatted_text(string):\n",
    "    display(Markdown(string))\n",
    "\n",
    "\n",
    "'''highlight the maximum in a Series or DataFrame'''  \n",
    "def highlight_max(data, color='yellow'):\n",
    "    attr = 'background-color: {}'.format(color)\n",
    "    if data.ndim == 1:  # Series from .apply(axis=0) or axis=1\n",
    "        is_max = data == data.max()\n",
    "        return [attr if v else '' for v in is_max]\n",
    "    else:  # from .apply(axis=None)\n",
    "        is_max = data == data.max().max()\n",
    "        return pd.DataFrame(np.where(is_max, attr, ''), index=data.index, columns=data.columns)   "
   ]
  },
  {
   "cell_type": "markdown",
   "metadata": {},
   "source": [
    "# Import Dataset"
   ]
  },
  {
   "cell_type": "code",
   "execution_count": null,
   "metadata": {
    "_kg_hide-input": true
   },
   "outputs": [],
   "source": [
    "covid_19 = pd.read_csv('../input/corona-virus-report/covid_19_clean_complete.csv', parse_dates=['Date'])"
   ]
  },
  {
   "cell_type": "code",
   "execution_count": null,
   "metadata": {
    "_kg_hide-input": true,
    "_kg_hide-output": true
   },
   "outputs": [],
   "source": [
    "print(\"Covid_19 Shape\", covid_19.shape)"
   ]
  },
  {
   "cell_type": "code",
   "execution_count": null,
   "metadata": {
    "_kg_hide-input": true,
    "_kg_hide-output": true
   },
   "outputs": [],
   "source": [
    "covid_19.head()"
   ]
  },
  {
   "cell_type": "markdown",
   "metadata": {},
   "source": [
    "# Data pre-processing"
   ]
  },
  {
   "cell_type": "code",
   "execution_count": null,
   "metadata": {
    "_kg_hide-input": true,
    "_kg_hide-output": true
   },
   "outputs": [],
   "source": [
    "formatted_text('***Covid 19 data information -***')\n",
    "covid_19.info()"
   ]
  },
  {
   "cell_type": "code",
   "execution_count": null,
   "metadata": {
    "_kg_hide-input": true,
    "_kg_hide-output": true
   },
   "outputs": [],
   "source": [
    "formatted_text('***NULL values in the data -***')\n",
    "covid_19.isnull().sum()"
   ]
  },
  {
   "cell_type": "markdown",
   "metadata": {},
   "source": [
    "**Initial Insights**\n",
    "\n",
    "- The **'Province/State'** column has some missing values. We could fill in these misssing values with the 'Others' name. \n",
    "  As we do not know the State for these records, lets go with 'Others' for now.\n",
    "   \n",
    "- The column name for - **'Province/State'** and **'Country/Region'** can be simplified. Lets rename them to 'State' and  \n",
    "  'Country' respectively.\n",
    "  \n",
    "- China is recorded as 'Mainland China'. We will rename it to 'China'"
   ]
  },
  {
   "cell_type": "code",
   "execution_count": null,
   "metadata": {
    "_kg_hide-input": true,
    "_kg_hide-output": true
   },
   "outputs": [],
   "source": [
    "# Convert 'Last Update' column to datetime object\n",
    "covid_19['Date'] = covid_19['Date'].apply(pd.to_datetime)\n",
    "\n",
    "# Fill the missing values in 'Province/State' with the 'Country' name.\n",
    "covid_19['Province/State'] = covid_19['Province/State'].replace(np.nan, covid_19['Country/Region'])\n",
    "\n",
    "# Fill the missing values (if any) in 'Confirmed', 'Deaths', 'Recovered' with the 0\n",
    "covid_19['Confirmed'] = covid_19['Confirmed'].replace(np.nan, 0)\n",
    "covid_19['Deaths'] = covid_19['Deaths'].replace(np.nan, 0)\n",
    "covid_19['Recovered'] = covid_19['Recovered'].replace(np.nan, 0)\n",
    "\n",
    "\n",
    "# Lets rename the columns - 'Province/State' and 'Last Update' to remove the '/' and space respectively.\n",
    "covid_19.rename(columns={'Country/Region': 'Country', 'Province/State': 'State'}, inplace=True)\n",
    "\n",
    "# Convert 'Mainland China' to 'China'\n",
    "covid_19['Country'] = np.where(covid_19['Country'] == 'Mainland China', 'China', covid_19['Country'])\n",
    "\n",
    "# Data Glimpse\n",
    "covid_19.head()"
   ]
  },
  {
   "cell_type": "code",
   "execution_count": null,
   "metadata": {
    "_kg_hide-input": true,
    "_kg_hide-output": true
   },
   "outputs": [],
   "source": [
    "# Check for the missing values again to ensure that there are no more remaining\n",
    "formatted_text('***NULL values in the data -***')\n",
    "covid_19.isnull().sum()"
   ]
  },
  {
   "cell_type": "markdown",
   "metadata": {},
   "source": [
    "**==>`The data looks clean now. This should be good to continue with further analysis`**."
   ]
  },
  {
   "cell_type": "code",
   "execution_count": null,
   "metadata": {
    "_kg_hide-input": true
   },
   "outputs": [],
   "source": [
    "# Lets check the total #Countries affected by nCoV\n",
    "\n",
    "formatted_text('***Affected Countries -***')\n",
    "Covid_19_Countries = covid_19['Country'].unique().tolist()\n",
    "print(Covid_19_Countries)\n",
    "print(\"\\n------------------------------------------------------------------\")\n",
    "print(\"\\nTotal countries affected by nCoV: \",len(Covid_19_Countries))"
   ]
  },
  {
   "cell_type": "markdown",
   "metadata": {},
   "source": [
    "So there are a total of 147 countries affected with Covid-19. \n",
    "\n",
    "One stand out from the above country list is the item - **`Others`**. Lets check what are these records."
   ]
  },
  {
   "cell_type": "code",
   "execution_count": null,
   "metadata": {
    "_kg_hide-input": true,
    "_kg_hide-output": true
   },
   "outputs": [],
   "source": [
    "# Now lets see the Country - 'Others' which is there in the list above\n",
    "formatted_text('***Affected Country - Others***')\n",
    "covid_19[covid_19['Country'] == 'US'].head()"
   ]
  },
  {
   "cell_type": "markdown",
   "metadata": {},
   "source": [
    "This is the **`Diamond Princess cruise ship`** which started on the **`5th of February`** from **`Yokohama, Japan`**. The ship is the biggest cluster outside China. The number of patients infected with the COVID-19 coronavirus aboard a quarantined cruise ship docked in Yokohama, Japan has continued to rise making the ship the largest cluster of the deadly virus outside China.\n",
    "\n",
    "With nearly 6% of the 3,711 passengers and crew members now infected, the 952-foot cruise ship also has the **`highest infection rate of the coronavirus`** anywhere in the world. Wuhan, China, the city where the disease is believed to have originated has nearly 33,000 official cases—but spread across a population of more than 11 million, that’s an infection rate of less than 0.3%.\n",
    "\n",
    "Health experts say the Diamond Princess highlights the high risk that an infection will spread in confined spaces. According to the U.S. Centers for Disease Control and Preventions, **`close-contact environments such as cruises can facilitate the transmission of viruses through droplets or contaminated surfaces`**.\n",
    "\n",
    "There have been death cases reported from the ship. Two Japanese passengers who had been on the quarantined Diamond Princess cruise ship have died after being infected with the novel coronavirus. Japan's health ministry says the male and female passengers were hospitalized last week. They were both in their 80s.\n",
    "The man and woman are the first Diamond Princess passengers to die during the virus outbreak. The cruise ship has been under a quarantine at Yokohama's port near Tokyo since Feb. 3.\n",
    "\n",
    "Source - \n",
    "\n",
    " - https://time.com/5783451/covid-19-princess-diamond-cruise-ship/\n",
    " - https://www.channelnewsasia.com/news/asia/covid19-coronavirus-diamond-princess-japan-79-test-positive-12450498\n",
    " - https://www.npr.org/sections/goatsandsoda/2020/02/20/807745305/coronavirus-2-princess-diamond-cruise-ship-passengers-die-after-contracting-covi"
   ]
  },
  {
   "cell_type": "markdown",
   "metadata": {},
   "source": [
    "# Diamond Cruise Ship Data"
   ]
  },
  {
   "cell_type": "code",
   "execution_count": null,
   "metadata": {
    "_kg_hide-input": true,
    "_kg_hide-output": true
   },
   "outputs": [],
   "source": [
    "# Lets create a subset of the data for the cruise ship\n",
    "\n",
    "diamond_cruise_ship_cases = covid_19[covid_19['Country'] == 'Cruise Ship']\n",
    "\n",
    "# Data Glimpse\n",
    "diamond_cruise_ship_cases.head()"
   ]
  },
  {
   "cell_type": "markdown",
   "metadata": {},
   "source": [
    "# World Data"
   ]
  },
  {
   "cell_type": "code",
   "execution_count": null,
   "metadata": {
    "_kg_hide-input": true
   },
   "outputs": [],
   "source": [
    "# Now that we have created a different subset for the cruise ship data, lets derive a subset with only the country data\n",
    "covid_19_world_data = covid_19[covid_19['Country'] != 'Cruise Ship']\n",
    "\n",
    "formatted_text('***World Data -***')\n",
    "# Data Glimpse\n",
    "covid_19_world_data.head()"
   ]
  },
  {
   "cell_type": "code",
   "execution_count": null,
   "metadata": {
    "_kg_hide-input": true
   },
   "outputs": [],
   "source": [
    "formatted_text('***World Data Countries Afftected -***')\n",
    "\n",
    "print(covid_19_world_data.Country.unique().tolist())\n",
    "print(\"\\nTotal number of countries: \", len(covid_19_world_data.Country.unique().tolist()))"
   ]
  },
  {
   "cell_type": "code",
   "execution_count": null,
   "metadata": {
    "_kg_hide-input": true,
    "_kg_hide-output": false
   },
   "outputs": [],
   "source": [
    "formatted_text('***Country and State wise grouped data -***')\n",
    "\n",
    "covid_19_country_wise_data = covid_19_world_data.groupby(['Country', 'State'])['Confirmed', 'Deaths', 'Recovered'].max()\n",
    "covid_19_country_wise_data"
   ]
  },
  {
   "cell_type": "markdown",
   "metadata": {},
   "source": [
    "### Latest World Data"
   ]
  },
  {
   "cell_type": "code",
   "execution_count": null,
   "metadata": {
    "_kg_hide-input": true,
    "_kg_hide-output": true
   },
   "outputs": [],
   "source": [
    "strDate = covid_19_world_data['Date'][-1:].astype('str')\n",
    "year = int(strDate.values[0].split('-')[0])\n",
    "month = int(strDate.values[0].split('-')[1])\n",
    "day = int(strDate.values[0].split('-')[2].split()[0])\n",
    "\n",
    "formatted_text('***Last reported case date-time***')\n",
    "print(strDate)\n",
    "print(year)\n",
    "print(month)\n",
    "print(strDate.values[0].split('-')[2].split())"
   ]
  },
  {
   "cell_type": "code",
   "execution_count": null,
   "metadata": {
    "_kg_hide-input": true,
    "_kg_hide-output": true
   },
   "outputs": [],
   "source": [
    "latest_covid_19_data = covid_19_world_data[covid_19_world_data['Date'] == pd.Timestamp(date(year,month,day))]\n",
    "\n",
    "latest_covid_19_data.reset_index(inplace=True, drop=True)\n",
    "\n",
    "latest_covid_19_data.head()"
   ]
  },
  {
   "cell_type": "code",
   "execution_count": null,
   "metadata": {
    "_kg_hide-input": true,
    "_kg_hide-output": true
   },
   "outputs": [],
   "source": [
    "latest_covid_19_data[pd.isnull(latest_covid_19_data).any(axis=1)]"
   ]
  },
  {
   "cell_type": "code",
   "execution_count": null,
   "metadata": {
    "_kg_hide-input": true
   },
   "outputs": [],
   "source": [
    "CountryWiseData = pd.DataFrame(latest_covid_19_data.groupby('Country')['Confirmed', 'Deaths', 'Recovered'].sum())\n",
    "CountryWiseData['Country'] = CountryWiseData.index\n",
    "CountryWiseData.index = np.arange(1, len(covid_19_world_data.Country.unique().tolist())+1)\n",
    "\n",
    "CountryWiseData = CountryWiseData[['Country','Confirmed', 'Deaths', 'Recovered']]\n",
    "\n",
    "formatted_text('***Country wise numbers of ''Confirmed'', ''Deaths'', ''Recovered'' Cases***')\n",
    "\n",
    "#CountryWiseData = pd.merge(latest_covid_19_data[['Country', 'Lat','Long']], CountryWiseData, on='Country')\n",
    "\n",
    "#CountryWiseData = CountryWiseData.drop_duplicates(subset = \"Country\", keep = 'first', inplace = True) \n",
    "\n",
    "CountryWiseData"
   ]
  },
  {
   "cell_type": "code",
   "execution_count": null,
   "metadata": {
    "_kg_hide-input": true,
    "_kg_hide-output": true
   },
   "outputs": [],
   "source": [
    "# Import the WORLD Latitute Longitude Data\n",
    "\n",
    "world_lat_lon_coordinates = pd.read_csv('/kaggle/input/world-coordinates/world_coordinates.csv')\n",
    "world_lat_lon_coordinates.head()"
   ]
  },
  {
   "cell_type": "code",
   "execution_count": null,
   "metadata": {
    "_kg_hide-input": true,
    "_kg_hide-output": true
   },
   "outputs": [],
   "source": [
    "# Merge the Country co-coordinates above to the country wise data we created.\n",
    "\n",
    "CountryWiseData = pd.merge(world_lat_lon_coordinates, CountryWiseData, on='Country')\n",
    "CountryWiseData.head()"
   ]
  },
  {
   "cell_type": "markdown",
   "metadata": {},
   "source": [
    "# Map Visualizations\n",
    "\n",
    "# Country wise distribution"
   ]
  },
  {
   "cell_type": "code",
   "execution_count": null,
   "metadata": {
    "_kg_hide-input": true
   },
   "outputs": [],
   "source": [
    "WorldMap = folium.Map(location=[0,0], zoom_start=1.5,tiles='cartodbpositron')\n",
    "\n",
    "formatted_text('***Click on the pin to veiw details stats***')\n",
    "\n",
    "for lat, long, confirmed, deaths, recovered, country in zip(CountryWiseData['latitude'],\n",
    "                                                           CountryWiseData['longitude'],\n",
    "                                                           CountryWiseData['Confirmed'],\n",
    "                                                           CountryWiseData['Deaths'],\n",
    "                                                           CountryWiseData['Recovered'], \n",
    "                                                           CountryWiseData['Country']):\n",
    "\n",
    "    if (deaths == 0):\n",
    "        folium.Marker(location=[lat, long]\n",
    "                    , popup = ('<strong>nCov Numbers:</strong> ' + '<br>' + \n",
    "                               '<strong>Country:</strong> ' + str(country) + '<br>'\n",
    "                               '<strong>Confirmed:</strong> ' + str(int(confirmed)) + '<br>'\n",
    "                               '<strong>Deaths:</strong> ' + str(int(deaths)) + '<br>'\n",
    "                               '<strong>Recovered:</strong> ' + str(int(recovered)) + '<br>')\n",
    "                    , icon=folium.Icon(color='darkblue',icon='info-sign'), color='rgb(55, 83, 109)'\n",
    "                    , tooltip = str(country), fill_color='rgb(55, 83, 109)').add_to(WorldMap)\n",
    "\n",
    "    else:\n",
    "        folium.Marker(location=[lat, long]\n",
    "                    , popup = ('<strong>nCov Numbers:</strong> ' + '<br>' + \n",
    "                               '<strong>Country:</strong> ' + str(country) + '<br>'\n",
    "                               '<strong>Confirmed:</strong> ' + str(int(confirmed)) + '<br>'\n",
    "                               '<strong>Deaths:</strong> ' + str(int(deaths)) + '<br>'\n",
    "                               '<strong>Recovered:</strong> ' + str(int(recovered)) + '<br>')\n",
    "                    , icon=folium.Icon(color='red', icon='info-sign'), color='rgb(26, 118, 255)'\n",
    "                    , tooltip = str(country), fill_color='rgb(26, 118, 255)').add_to(WorldMap)\n",
    "        \n",
    "WorldMap"
   ]
  },
  {
   "cell_type": "markdown",
   "metadata": {},
   "source": [
    "# Country & State wise distribution"
   ]
  },
  {
   "cell_type": "code",
   "execution_count": null,
   "metadata": {
    "_kg_hide-input": true
   },
   "outputs": [],
   "source": [
    "WorldMap = folium.Map(location=[0,0], zoom_start=1.5,tiles='Stamen Toner')\n",
    "\n",
    "formatted_text('***Click on the dots to veiw details stats***')\n",
    "\n",
    "for lat, long, confirmed, deaths, recovered, country, state in zip(latest_covid_19_data['Lat'],\n",
    "                                                           latest_covid_19_data['Long'],\n",
    "                                                           latest_covid_19_data['Confirmed'],\n",
    "                                                           latest_covid_19_data['Deaths'],\n",
    "                                                           latest_covid_19_data['Recovered'], \n",
    "                                                           latest_covid_19_data['Country'],\n",
    "                                                           latest_covid_19_data['State']):\n",
    "\n",
    "    if (deaths == 0):\n",
    "        folium.CircleMarker(location=[lat, long]\n",
    "                    , radius=3\n",
    "                    , popup = ('<strong>nCov Numbers:</strong> ' + '<br>' + \n",
    "                               '<strong>Country:</strong> ' + str(country) + '<br>'\n",
    "                               '<strong>State:</strong> ' + str(state) + '<br>'\n",
    "                               '<strong>Confirmed:</strong> ' + str(int(confirmed)) + '<br>'\n",
    "                               '<strong>Deaths:</strong> ' + str(int(deaths)) + '<br>'\n",
    "                               '<strong>Recovered:</strong> ' + str(int(recovered)) + '<br>')\n",
    "                    , color='blue'\n",
    "                    , tooltip = str(state)\n",
    "                    , fill_color='blue'\n",
    "                    , fill_opacity=0.7).add_to(WorldMap)\n",
    "\n",
    "    else:\n",
    "        folium.CircleMarker(location=[lat, long]\n",
    "                    , radius=3\n",
    "                    , popup = ('<strong>nCov Numbers:</strong> ' + '<br>' + \n",
    "                               '<strong>Country:</strong> ' + str(country) + '<br>'\n",
    "                               '<strong>State:</strong> ' + str(state) + '<br>'\n",
    "                               '<strong>Confirmed:</strong> ' + str(int(confirmed)) + '<br>'\n",
    "                               '<strong>Deaths:</strong> ' + str(int(deaths)) + '<br>'\n",
    "                               '<strong>Recovered:</strong> ' + str(int(recovered)) + '<br>')\n",
    "                    , color='red'\n",
    "                    , tooltip = str(state)\n",
    "                    , fill_color='red'\n",
    "                    , fill_opacity=0.7).add_to(WorldMap)\n",
    "        \n",
    "WorldMap"
   ]
  },
  {
   "cell_type": "markdown",
   "metadata": {},
   "source": [
    "# Choropleth Global\n",
    "\n",
    "## Confirmed Cases"
   ]
  },
  {
   "cell_type": "code",
   "execution_count": null,
   "metadata": {
    "_kg_hide-input": true
   },
   "outputs": [],
   "source": [
    "choropleth_map_confirmed = px.choropleth(CountryWiseData, locations='Country', \n",
    "                    locationmode='country names', color='Confirmed', \n",
    "                    hover_name='Country', range_color=[1,max(CountryWiseData.Confirmed)], \n",
    "                    color_continuous_scale='reds', \n",
    "                    title='Covid-19 Globally Confirmed Countries')\n",
    "\n",
    "choropleth_map_confirmed.update(layout_coloraxis_showscale=False)\n",
    "iplot(choropleth_map_confirmed)"
   ]
  },
  {
   "cell_type": "markdown",
   "metadata": {},
   "source": [
    "**`China is the worst affected country with Covid-19. The virus has spread to other neighbouring countries and cases of covid-19 have been reported there. \n",
    "However the numbers are not as high as China. Some distant countries in Europe, North America & Australia have also seen cases of Covid-19. \n",
    "This could be due to some citizens would have been present in China at the time of the virus out-break and unknowingly would have carried along with them in \n",
    "their return journey back to their respective countries.`**"
   ]
  },
  {
   "cell_type": "markdown",
   "metadata": {},
   "source": [
    "## Global Deaths "
   ]
  },
  {
   "cell_type": "code",
   "execution_count": null,
   "metadata": {
    "_kg_hide-input": true
   },
   "outputs": [],
   "source": [
    "choropleth_map_deaths = px.choropleth(CountryWiseData, locations='Country', locationmode='country names', color='Deaths', hover_name='Country', range_color=[1,max(CountryWiseData.Deaths)], \n",
    "                                      color_continuous_scale='reds', title='Covid-19 Global Deaths Numbers')\n",
    "\n",
    "choropleth_map_deaths.update(layout_coloraxis_showscale=False)\n",
    "iplot(choropleth_map_deaths)"
   ]
  },
  {
   "cell_type": "markdown",
   "metadata": {},
   "source": [
    "**`As China has the most reported cases, the number of deaths has also been on the higher side. The virus did not match any other known virus. \n",
    "This raised concern because when a virus is new, we do not know how it affects people. There were no existing medications available. \n",
    "Due to lack of timely medication available the number of deaths has see the higher side`**"
   ]
  },
  {
   "cell_type": "markdown",
   "metadata": {},
   "source": [
    "## Global Recovered Cases"
   ]
  },
  {
   "cell_type": "code",
   "execution_count": null,
   "metadata": {
    "_kg_hide-input": true
   },
   "outputs": [],
   "source": [
    "choropleth_map_recovered = px.choropleth(CountryWiseData, locations='Country', \n",
    "                    locationmode='country names', color='Recovered', \n",
    "                    hover_name='Country', range_color=[1,max(CountryWiseData.Recovered)], \n",
    "                    color_continuous_scale='reds', \n",
    "                    title='Covid-19 Global Recovered Cases')\n",
    "\n",
    "choropleth_map_recovered.update(layout_coloraxis_showscale=False)\n",
    "iplot(choropleth_map_recovered)"
   ]
  },
  {
   "cell_type": "markdown",
   "metadata": {},
   "source": [
    "**`The recovery rate has been a little slowerthan expected. The virus did not match any other known virus. \n",
    "This raised concern because when a virus is new, we do not know how it affects people. There were no existing medications available. \n",
    "However, A team of doctors in Thailand have seen some apparent success treating Coronavirus with drug cocktail. The doctors combined the anti-flu drug oseltamivir with lopinavir \n",
    "and ritonavir, anti-virals used to treat HIV, Kriengsak said, adding the ministry was awaiting research results to prove the findings.`**\n",
    "\n",
    "Read more at: https://economictimes.indiatimes.com/news/international/world-news/thailand-sees-apparent-success-treating-virus-with-drug-cocktail/articleshow/73879572.cms?utm_source=contentofinterest&utm_medium=text&utm_campaign=cppst"
   ]
  },
  {
   "cell_type": "markdown",
   "metadata": {},
   "source": [
    "# China State wise distribution"
   ]
  },
  {
   "cell_type": "code",
   "execution_count": null,
   "metadata": {
    "_kg_hide-input": true,
    "_kg_hide-output": true
   },
   "outputs": [],
   "source": [
    "chinese_data_over_time = covid_19[(covid_19['Country'] == 'China')]\n",
    "chinese_data_over_time.head()"
   ]
  },
  {
   "cell_type": "code",
   "execution_count": null,
   "metadata": {
    "_kg_hide-input": true,
    "_kg_hide-output": true
   },
   "outputs": [],
   "source": [
    "china_statewise_data = chinese_data_over_time.groupby(['State'])['Confirmed', 'Deaths', 'Recovered'].max()\n",
    "\n",
    "china_statewise_data['State'] = china_statewise_data.index\n",
    "china_statewise_data.index = np.arange(1, len(china_statewise_data.State.unique().tolist())+1)\n",
    "\n",
    "china_statewise_data = china_statewise_data[['State','Confirmed', 'Deaths', 'Recovered']]\n",
    "\n",
    "formatted_text('***Country wise numbers of ''Confirmed'', ''Deaths'', ''Recovered'' Cases***')\n",
    "\n",
    "china_statewise_data.head()"
   ]
  },
  {
   "cell_type": "code",
   "execution_count": null,
   "metadata": {
    "_kg_hide-input": true,
    "_kg_hide-output": true
   },
   "outputs": [],
   "source": [
    "# Extract the state latitude and longitude coordinates from the time series data.\n",
    "china_coordinates = chinese_data_over_time[['State','Lat','Long']]\n",
    "china_coordinates.drop_duplicates(keep='first', inplace=True)\n",
    "\n",
    "china_coordinates.index = np.arange(1, len(china_coordinates.State.unique().tolist())+1)\n",
    "\n",
    "china_coordinates.head()"
   ]
  },
  {
   "cell_type": "code",
   "execution_count": null,
   "metadata": {
    "_kg_hide-input": true,
    "_kg_hide-output": true
   },
   "outputs": [],
   "source": [
    "china_statewise_data = pd.merge(china_coordinates, china_statewise_data, on='State')\n",
    "\n",
    "china_statewise_data.head()"
   ]
  },
  {
   "cell_type": "markdown",
   "metadata": {},
   "source": [
    "# China - Distribution on Map"
   ]
  },
  {
   "cell_type": "code",
   "execution_count": null,
   "metadata": {
    "_kg_hide-input": true
   },
   "outputs": [],
   "source": [
    "china_lat = 35.8617\n",
    "china_lon = 104.1954\n",
    "\n",
    "formatted_text('***Click on the pin to veiw details stats***')\n",
    "\n",
    "ChinaMap = folium.Map(location=[china_lat, china_lon], zoom_start=4, tiles='cartodbpositron')\n",
    "\n",
    "for lat, long, confirmed, deaths, recovered, state in zip(china_statewise_data['Lat'],\n",
    "                                                           china_statewise_data['Long'],\n",
    "                                                           china_statewise_data['Confirmed'],\n",
    "                                                           china_statewise_data['Deaths'],\n",
    "                                                           china_statewise_data['Recovered'], \n",
    "                                                           china_statewise_data['State']):\n",
    "    \n",
    "    if (deaths == 0):\n",
    "        folium.Marker(location=[lat, long]\n",
    "                    , popup = ('<strong>nCov Numbers:</strong> ' + '<br>' + \n",
    "                                 '<strong>State:</strong> ' + str(state).capitalize() + '<br>'\n",
    "                                 '<strong>Confirmed:</strong> ' + str(int(confirmed)) + '<br>'\n",
    "                                 '<strong>Deaths:</strong> ' + str(int(deaths)) + '<br>'\n",
    "                                 '<strong>Recovered:</strong> ' + str(int(recovered)) + '<br>')\n",
    "                    , icon=folium.Icon(color='darkblue',icon='info-sign'), color='rgb(55, 83, 109)'\n",
    "                    , tooltip = str(state).capitalize(), fill_color='rgb(55, 83, 109)').add_to(ChinaMap)\n",
    "    else:\n",
    "        folium.Marker(location=[lat, long]\n",
    "                    , popup = ('<strong>nCov Numbers:</strong> ' + '<br>' + \n",
    "                                 '<strong>State:</strong> ' + str(state).capitalize() + '<br>'\n",
    "                                 '<strong>Confirmed:</strong> ' + str(int(confirmed)) + '<br>'\n",
    "                                 '<strong>Deaths:</strong> ' + str(int(deaths)) + '<br>'\n",
    "                                 '<strong>Recovered:</strong> ' + str(int(recovered)) + '<br>')\n",
    "                    , icon=folium.Icon(color='red', icon='info-sign'), color='rgb(26, 118, 255)'\n",
    "                    , tooltip = str(state).capitalize(), fill_color='rgb(26, 118, 255)').add_to(ChinaMap)\n",
    "    \n",
    "    \n",
    "ChinaMap"
   ]
  },
  {
   "cell_type": "markdown",
   "metadata": {},
   "source": [
    "# Choropleth China"
   ]
  },
  {
   "cell_type": "code",
   "execution_count": null,
   "metadata": {
    "_kg_hide-input": true,
    "_kg_hide-output": true
   },
   "outputs": [],
   "source": [
    "# Load the CHina geo json file\n",
    "\n",
    "with open('/kaggle/input/china-geo-json/china_geojson.json') as file:\n",
    "    china = json.load(file)"
   ]
  },
  {
   "cell_type": "markdown",
   "metadata": {},
   "source": [
    "## Confirmed Cases"
   ]
  },
  {
   "cell_type": "code",
   "execution_count": null,
   "metadata": {
    "_kg_hide-input": true
   },
   "outputs": [],
   "source": [
    "china_conf_choropleth = go.Figure(go.Choroplethmapbox(geojson=china, locations=china_statewise_data['State'],\n",
    "                                                      z=china_statewise_data['Confirmed'], colorscale='Aggrnyl',\n",
    "                                                      zmin=0, zmax=max(china_statewise_data['Confirmed']), marker_opacity=0.5, marker_line_width=0))\n",
    "\n",
    "china_conf_choropleth.update_layout(mapbox_style=\"carto-positron\", mapbox_zoom=3, \n",
    "                                    mapbox_center = {\"lat\": china_lat, \"lon\": china_lon})\n",
    "\n",
    "china_conf_choropleth.update_layout(margin={\"r\":0,\"t\":0,\"l\":0,\"b\":0})\n",
    "\n",
    "iplot(china_conf_choropleth)"
   ]
  },
  {
   "cell_type": "markdown",
   "metadata": {},
   "source": [
    "**`Hubei is the worst affected state in China with almost 92% of the cases reported. The virus outbreak has been feared to be started in Wuhan, Hubei`**"
   ]
  },
  {
   "cell_type": "markdown",
   "metadata": {},
   "source": [
    "## Death Cases"
   ]
  },
  {
   "cell_type": "code",
   "execution_count": null,
   "metadata": {
    "_kg_hide-input": true
   },
   "outputs": [],
   "source": [
    "china_death_choropleth = go.Figure(go.Choroplethmapbox(geojson=china, locations=china_statewise_data['State'],\n",
    "                                                      z=china_statewise_data['Deaths'], colorscale='Sunset',\n",
    "                                                      zmin=0, zmax=max(china_statewise_data['Deaths']), marker_opacity=0.5, marker_line_width=0))\n",
    "\n",
    "china_death_choropleth.update_layout(mapbox_style=\"carto-positron\", mapbox_zoom=3, \n",
    "                                    mapbox_center = {\"lat\": china_lat, \"lon\": china_lon})\n",
    "\n",
    "china_death_choropleth.update_layout(margin={\"r\":0,\"t\":0,\"l\":0,\"b\":0})\n",
    "\n",
    "iplot(china_death_choropleth)"
   ]
  },
  {
   "cell_type": "markdown",
   "metadata": {},
   "source": [
    "## Recovered Cases"
   ]
  },
  {
   "cell_type": "code",
   "execution_count": null,
   "metadata": {
    "_kg_hide-input": true
   },
   "outputs": [],
   "source": [
    "china_recovered_choropleth = go.Figure(go.Choroplethmapbox(geojson=china, locations=china_statewise_data['State'],\n",
    "                                                      z=china_statewise_data['Recovered'], colorscale='Brbg',\n",
    "                                                      zmin=0, zmax=10000, marker_opacity=0.5, marker_line_width=0))\n",
    "\n",
    "china_recovered_choropleth.update_layout(mapbox_style=\"carto-positron\", mapbox_zoom=3, \n",
    "                                    mapbox_center = {\"lat\": china_lat, \"lon\": china_lon})\n",
    "\n",
    "china_recovered_choropleth.update_layout(margin={\"r\":0,\"t\":0,\"l\":0,\"b\":0})\n",
    "\n",
    "iplot(china_recovered_choropleth)"
   ]
  },
  {
   "cell_type": "markdown",
   "metadata": {},
   "source": [
    "**`The recovery rate has been a little slowerthan expected. The virus did not match any other known virus. This raised concern because when a virus is new, we do not \n",
    "know how it affects people. There were no existing medications available. However, A team of doctors in Thailand have seen some apparent success treating Coronavirus with \n",
    "drug cocktail. The doctors combined the anti-flu drug oseltamivir with lopinavir and ritonavir, anti-virals used to treat HIV, Kriengsak said, adding the ministry was \n",
    "awaiting research results to prove the findings.`**\n",
    "\n",
    "Read more at: https://economictimes.indiatimes.com/news/international/world-news/thailand-sees-apparent-success-treating-virus-with-drug-cocktail/articleshow/73879572.cms?utm_source=contentofinterest&utm_medium=text&utm_campaign=cppst"
   ]
  },
  {
   "cell_type": "markdown",
   "metadata": {},
   "source": [
    "# Rest of World"
   ]
  },
  {
   "cell_type": "code",
   "execution_count": null,
   "metadata": {
    "_kg_hide-input": true,
    "_kg_hide-output": true
   },
   "outputs": [],
   "source": [
    "rest_of_world = CountryWiseData[CountryWiseData['Country'] != 'China']\n",
    "rest_of_world.head()"
   ]
  },
  {
   "cell_type": "markdown",
   "metadata": {},
   "source": [
    "## Rest of World - Confirmed Cases"
   ]
  },
  {
   "cell_type": "code",
   "execution_count": null,
   "metadata": {
    "_kg_hide-input": true
   },
   "outputs": [],
   "source": [
    "rest_of_world_confirmed = px.choropleth(rest_of_world, locations='Country', \n",
    "                    locationmode='country names', color='Confirmed', \n",
    "                    hover_name='Country', range_color=[1, 10000], \n",
    "                    color_continuous_scale='Geyser', \n",
    "                    title='Covid-19 Rest of World Confirmed Cases')\n",
    "\n",
    "iplot(rest_of_world_confirmed)"
   ]
  },
  {
   "cell_type": "markdown",
   "metadata": {},
   "source": [
    "## Rest of World - Death Cases"
   ]
  },
  {
   "cell_type": "code",
   "execution_count": null,
   "metadata": {
    "_kg_hide-input": true
   },
   "outputs": [],
   "source": [
    "rest_of_world_death = px.choropleth(rest_of_world, locations='Country', \n",
    "                    locationmode='country names', color='Deaths', \n",
    "                    hover_name='Country', range_color=[0, len(rest_of_world.Deaths)], \n",
    "                    color_continuous_scale='Picnic', \n",
    "                    title='Covid-19 Rest of World Death Cases')\n",
    "\n",
    "iplot(rest_of_world_death)"
   ]
  },
  {
   "cell_type": "markdown",
   "metadata": {},
   "source": [
    "**`There have been countable number of deaths reported outside of China.`**"
   ]
  },
  {
   "cell_type": "markdown",
   "metadata": {},
   "source": [
    "## Rest of World - Recovered Cases"
   ]
  },
  {
   "cell_type": "code",
   "execution_count": null,
   "metadata": {
    "_kg_hide-input": true
   },
   "outputs": [],
   "source": [
    "rest_of_world_recovered = px.choropleth(rest_of_world, locations='Country', \n",
    "                    locationmode='country names', color='Recovered', \n",
    "                    hover_name='Country', range_color=[1,len(rest_of_world.Recovered)], \n",
    "                    color_continuous_scale='viridis', \n",
    "                    title='Covid-19 Rest of World Recovered Cases')\n",
    "\n",
    "iplot(rest_of_world_recovered)"
   ]
  },
  {
   "cell_type": "markdown",
   "metadata": {},
   "source": [
    "**`Outside of China there hve been countries where the confirmed cases have been all recovered from the virus`**\n",
    "\n",
    "Lets see how many such countries are there - "
   ]
  },
  {
   "cell_type": "code",
   "execution_count": null,
   "metadata": {
    "_kg_hide-input": true,
    "_kg_hide-output": true
   },
   "outputs": [],
   "source": [
    "formatted_text('***Countries withh all reported cases recovered -***')\n",
    "print(rest_of_world[rest_of_world['Confirmed'] == \n",
    "                    rest_of_world['Recovered']][['Country','Confirmed', 'Recovered']].reset_index())"
   ]
  },
  {
   "cell_type": "markdown",
   "metadata": {},
   "source": [
    "# Diamond Princess Cruise Ship"
   ]
  },
  {
   "cell_type": "code",
   "execution_count": null,
   "metadata": {
    "_kg_hide-input": true
   },
   "outputs": [],
   "source": [
    "# diamond_cruise_ship_cases.reset_index(drop=True, inplace=True)\n",
    "\n",
    "# # We only need the latest data here\n",
    "# temp_ship = diamond_cruise_ship_cases.sort_values(by='Date', ascending=False).head(1)[['State', 'Confirmed', \n",
    "#                                                                                        'Deaths', 'Recovered']]\n",
    "\n",
    "# temp_ship"
   ]
  },
  {
   "cell_type": "code",
   "execution_count": null,
   "metadata": {
    "_kg_hide-input": true
   },
   "outputs": [],
   "source": [
    "# formatted_text('***Click on the pin to veiw details stats***')\n",
    "# cruiseMap = folium.Map(location=[diamond_cruise_ship_cases.iloc[0]['Lat'], diamond_cruise_ship_cases.iloc[0]['Long']], \n",
    "#                        tiles='cartodbpositron', min_zoom=8, max_zoom=12, zoom_start=12)\n",
    "\n",
    "# folium.Marker(location=[diamond_cruise_ship_cases.iloc[0]['Lat'], diamond_cruise_ship_cases.iloc[0]['Long']],\n",
    "#         popup =   '<strong>Ship : ' + str(temp_ship.iloc[0]['State']) + '<br>' +\n",
    "#                     '<strong>Confirmed : ' + str(temp_ship.iloc[0]['Confirmed']) + '<br>' +\n",
    "#                     '<strong>Deaths : ' + str(temp_ship.iloc[0]['Deaths']) + '<br>' +\n",
    "#                     '<strong>Recovered : ' + str(temp_ship.iloc[0]['Recovered'])\n",
    "#                     , icon=folium.Icon(color='red', icon='info-sign'), color='rgb(26, 118, 255)'\n",
    "#                     , tooltip = str(temp_ship.iloc[0]['State']), fill_color='rgb(26, 118, 255)').add_to(cruiseMap)\n",
    "\n",
    "# cruiseMap"
   ]
  },
  {
   "cell_type": "markdown",
   "metadata": {},
   "source": [
    "This is the **`Diamond Princess cruise ship`** which started on the **`5th of February`** from **`Yokohama, Japan`**. The ship is the biggest cluster outside China. The number of patients infected with the COVID-19 coronavirus aboard a quarantined cruise ship docked in Yokohama, Japan has continued to rise making the ship the largest cluster of the deadly virus outside China.\n",
    "\n",
    "With nearly 6% of the 3,711 passengers and crew members now infected, the 952-foot cruise ship also has the **`highest infection rate of the coronavirus`** anywhere in the world. Wuhan, China, the city where the disease is believed to have originated has nearly 33,000 official cases—but spread across a population of more than 11 million, that’s an infection rate of less than 0.3%.\n",
    "\n",
    "Health experts say the Diamond Princess highlights the high risk that an infection will spread in confined spaces. According to the U.S. Centers for Disease Control and Preventions, **`close-contact environments such as cruises can facilitate the transmission of viruses through droplets or contaminated surfaces`**.\n",
    "\n",
    "There have been death cases reported from the ship. Two Japanese passengers who had been on the quarantined Diamond Princess cruise ship have died after being infected with the novel coronavirus. Japan's health ministry says the male and female passengers were hospitalized last week. They were both in their 80s.\n",
    "The man and woman are the first Diamond Princess passengers to die during the virus outbreak. The cruise ship has been under a quarantine at Yokohama's port near Tokyo since Feb. 3.\n",
    "\n",
    "Source - \n",
    "\n",
    " - https://time.com/5783451/covid-19-princess-diamond-cruise-ship/\n",
    " - https://www.channelnewsasia.com/news/asia/covid19-coronavirus-diamond-princess-japan-79-test-positive-12450498\n",
    " - https://www.npr.org/sections/goatsandsoda/2020/02/20/807745305/coronavirus-2-princess-diamond-cruise-ship-passengers-die-after-contracting-covi"
   ]
  },
  {
   "cell_type": "markdown",
   "metadata": {},
   "source": [
    "# Treemaps"
   ]
  },
  {
   "cell_type": "code",
   "execution_count": null,
   "metadata": {
    "_kg_hide-input": true
   },
   "outputs": [],
   "source": [
    "china_statewise_data[\"Country\"] = \"China\" # in order to have a single root node\n",
    "\n",
    "fig1 = px.treemap(china_statewise_data.sort_values(by='Confirmed', ascending=False).reset_index(drop=True), \n",
    "                 path=[\"Country\", \"State\"], values=\"Confirmed\", title='Number of Confirmed Cases in Chinese Provinces',\n",
    "                 color_discrete_sequence = px.colors.qualitative.Prism, hover_data=[\"Confirmed\"])\n",
    "\n",
    "fig1.data[0].textinfo = 'label+text+value+percent entry'\n",
    "py.offline.iplot(fig1)\n",
    "\n",
    "fig2 = px.treemap(china_statewise_data.sort_values(by='Deaths', ascending=False).reset_index(drop=True), \n",
    "                 path=[\"Country\", \"State\"], values=\"Deaths\", title='Number of Deaths Reported in Chinese Provinces',\n",
    "                 color_discrete_sequence = px.colors.qualitative.Prism, hover_data=[\"Deaths\"])\n",
    "\n",
    "fig2.data[0].textinfo = 'label+text+value+percent entry'\n",
    "py.offline.iplot(fig2)"
   ]
  },
  {
   "cell_type": "markdown",
   "metadata": {},
   "source": [
    "**As we see from the above maps, Hubei, the said origin of the novel Corona Virus is the worst affected state in China with a staggering 84% of the confirmed cases coming out of it and 96% of deaths happenning there**"
   ]
  },
  {
   "cell_type": "markdown",
   "metadata": {},
   "source": [
    "## Global Tree"
   ]
  },
  {
   "cell_type": "code",
   "execution_count": null,
   "metadata": {
    "_kg_hide-input": true,
    "_kg_hide-output": true
   },
   "outputs": [],
   "source": [
    "temp2 = pd.DataFrame(covid_19_world_data.groupby(['Country', 'State'])['Confirmed', 'Deaths', 'Recovered'].max().reset_index())\n",
    "temp2['Global'] = \"Global\" # to have a single root"
   ]
  },
  {
   "cell_type": "markdown",
   "metadata": {},
   "source": [
    "### Confirmed Cases"
   ]
  },
  {
   "cell_type": "code",
   "execution_count": null,
   "metadata": {
    "_kg_hide-input": true
   },
   "outputs": [],
   "source": [
    "fig = px.treemap(temp2, \n",
    "                 path=[\"Global\", \"Country\"], values=\"Confirmed\", height=700,\n",
    "                 title='Number of Confirmed Cases Around The Globe',\n",
    "                 color_discrete_sequence = px.colors.qualitative.Prism)\n",
    "fig.data[0].textinfo = 'label+text+value+percent entry'\n",
    "fig.show()\n",
    "\n",
    "fig = px.treemap(temp2, \n",
    "                 path=[\"Global\", \"Country\", \"State\"], values=\"Confirmed\", height=700,\n",
    "                 title='Number of Confirmed Cases Around The Globe',\n",
    "                 color_discrete_sequence = px.colors.qualitative.Prism)\n",
    "fig.data[0].textinfo = 'label+text+value+percent parent+percent entry'\n",
    "fig.show()\n"
   ]
  },
  {
   "cell_type": "markdown",
   "metadata": {},
   "source": [
    "**Globally we have more that 2 lakhs confirmed cases of the people infectedd with the Virus from countries all overthe globe. \n",
    "The reason why WHO has declared this as a Pandemic. \n",
    "From the plots above we know -**\n",
    "\n",
    "China (38%), Italy (17%), Iran (8%), Spain (6%), Germany (6%) are the worst affected countries followed by United States, France and South Korea."
   ]
  },
  {
   "cell_type": "markdown",
   "metadata": {},
   "source": [
    "### Reported Deaths"
   ]
  },
  {
   "cell_type": "code",
   "execution_count": null,
   "metadata": {
    "_kg_hide-input": true
   },
   "outputs": [],
   "source": [
    "fig = px.treemap(temp2, \n",
    "                 path=[\"Global\", \"Country\"], values=\"Deaths\", height=700,\n",
    "                 title='Number of Deaths reported Globally',\n",
    "                 color_discrete_sequence = px.colors.qualitative.Prism)\n",
    "fig.data[0].textinfo = 'label+text+value+percent entry'\n",
    "fig.show()\n",
    "\n",
    "fig = px.treemap(temp2, \n",
    "                 path=[\"Global\", \"Country\", \"State\"], values=\"Deaths\", height=700,\n",
    "                 title='Number of Deaths reported Globally',\n",
    "                 color_discrete_sequence = px.colors.qualitative.Prism)\n",
    "fig.data[0].textinfo = 'label+text+value+percent parent+percent entry'\n",
    "fig.show()"
   ]
  },
  {
   "cell_type": "markdown",
   "metadata": {},
   "source": [
    "Globally thousands of people have lost their lives to the Corona virus. From the plots above we know -\n",
    "\n",
    "China (37%), Italy (34%), Iran (13%), Spain (7%), France (2%) are the worst affected countries in terms of the number of deaths reported."
   ]
  },
  {
   "cell_type": "markdown",
   "metadata": {},
   "source": [
    "# World HeatMap\n",
    "\n",
    "## 1. Confirmed Cases"
   ]
  },
  {
   "cell_type": "code",
   "execution_count": null,
   "metadata": {
    "_kg_hide-input": true
   },
   "outputs": [],
   "source": [
    "conf_heatmap = folium.Map(location=[0,0], zoom_start=2)\n",
    "\n",
    "HeatMap(data=latest_covid_19_data[['Lat', 'Long', 'Confirmed']].groupby(['Lat', 'Long']).sum().reset_index().values.tolist(),radius=18, max_zoom=12).add_to(conf_heatmap)\n",
    "\n",
    "conf_heatmap"
   ]
  },
  {
   "cell_type": "markdown",
   "metadata": {},
   "source": [
    "## 2. Reported Deaths"
   ]
  },
  {
   "cell_type": "code",
   "execution_count": null,
   "metadata": {
    "_kg_hide-input": true
   },
   "outputs": [],
   "source": [
    "deaths_heatmap = folium.Map(location=[0,0], zoom_start=2)\n",
    "\n",
    "HeatMap(data=latest_covid_19_data[['Lat', 'Long', 'Deaths']].groupby(['Lat', 'Long']).sum().reset_index().values.tolist(),radius=18, max_zoom=12).add_to(deaths_heatmap)\n",
    "\n",
    "deaths_heatmap"
   ]
  },
  {
   "cell_type": "markdown",
   "metadata": {},
   "source": [
    "# Country Wise Analysis\n",
    "\n",
    "## 1. Italy\n",
    "\n",
    "Data Credits - https://github.com/pcm-dpc/COVID-19"
   ]
  },
  {
   "cell_type": "code",
   "execution_count": null,
   "metadata": {
    "_kg_hide-input": true,
    "_kg_hide-output": true
   },
   "outputs": [],
   "source": [
    "Italy_Covid19 = pd.read_csv('/kaggle/input/coronavirus-in-italy/dati-regioni/dpc-covid19-ita-regioni-20200318.csv')\n",
    "Italy_Covid19.head()"
   ]
  },
  {
   "cell_type": "markdown",
   "metadata": {},
   "source": [
    "**Translation**\n",
    "1. deceduti = deceased\n",
    "2. denominazione regione = region denomination\n",
    "3. totale_positivi = total currently positive\n",
    "4. totale_casi = total cases\n",
    "5. ricoverati con sintomi = hospitalized with symptoms\n",
    "6. dimessi guariti = discharged healed"
   ]
  },
  {
   "cell_type": "code",
   "execution_count": null,
   "metadata": {
    "_kg_hide-input": true,
    "_kg_hide-output": true
   },
   "outputs": [],
   "source": [
    "Italy_Covid19[['denominazione_regione','totale_positivi','deceduti']].sort_values('totale_positivi', ascending=False).head(5)"
   ]
  },
  {
   "cell_type": "markdown",
   "metadata": {},
   "source": [
    "**Lombardia\t(10043), Emilia Romagna\t(2741), Veneto\t(1989) are the worst affected regions in Italy.**"
   ]
  },
  {
   "cell_type": "code",
   "execution_count": null,
   "metadata": {
    "_kg_hide-input": true
   },
   "outputs": [],
   "source": [
    "italy_lat = 42.50\n",
    "italy_lon = 12.50\n",
    "\n",
    "formatted_text('***Click on the pin to veiw details stats***')\n",
    "\n",
    "ItalyMap = folium.Map(location=[italy_lat, italy_lon], zoom_start=6, tiles='cartodbpositron')\n",
    "\n",
    "for lat, long, confirmed, current_positive, deaths, recovered, region in zip(Italy_Covid19['lat'],\n",
    "                                                           Italy_Covid19['long'],\n",
    "                                                           Italy_Covid19['totale_casi'], \n",
    "                                                           Italy_Covid19['totale_positivi'],\n",
    "                                                           Italy_Covid19['deceduti'],\n",
    "                                                           Italy_Covid19['ricoverati_con_sintomi'], \n",
    "                                                           Italy_Covid19['denominazione_regione']):\n",
    "    \n",
    "    if (deaths == 0):\n",
    "        folium.Marker(location=[lat, long]\n",
    "                    , popup = ('<strong>nCov Numbers:</strong> ' + '<br>' + \n",
    "                                 '<strong>State:</strong> ' + str(region).capitalize() + '<br>'\n",
    "                                 '<strong>Total Confirmed:</strong> ' + str(confirmed) + '<br>'\n",
    "                                 '<strong>Current Positive Cases:</strong> ' + str(int(current_positive)) + '<br>'\n",
    "                                 '<strong>Deaths:</strong> ' + str(int(deaths)) + '<br>'\n",
    "                                 '<strong>Recovered:</strong> ' + str(int(recovered)) + '<br>')\n",
    "                    , icon=folium.Icon(color='darkblue',icon='info-sign'), color='rgb(55, 83, 109)'\n",
    "                    , tooltip = str(region).capitalize(), fill_color='rgb(55, 83, 109)').add_to(ItalyMap)\n",
    "    else:\n",
    "        folium.Marker(location=[lat, long]\n",
    "                    , popup = ('<strong>nCov Numbers:</strong> ' + '<br>' + \n",
    "                                 '<strong>State:</strong> ' + str(region).capitalize() + '<br>'\n",
    "                                 '<strong>Total Confirmed:</strong> ' + str(confirmed) + '<br>'\n",
    "                                 '<strong>Current Positive Cases</strong> ' + str(int(current_positive)) + '<br>'\n",
    "                                 '<strong>Deaths:</strong> ' + str(int(deaths)) + '<br>'\n",
    "                                 '<strong>Recovered:</strong> ' + str(int(recovered)) + '<br>')\n",
    "                    , icon=folium.Icon(color='red', icon='info-sign'), color='rgb(26, 118, 255)'\n",
    "                    , tooltip = str(region).capitalize(), fill_color='rgb(26, 118, 255)').add_to(ItalyMap)\n",
    "    \n",
    "    \n",
    "ItalyMap"
   ]
  },
  {
   "cell_type": "code",
   "execution_count": null,
   "metadata": {
    "_kg_hide-input": true
   },
   "outputs": [],
   "source": [
    "temp_Italy = Italy_Covid19.copy()\n",
    "temp_Italy['Country'] = 'Italy' # to have a single root\n",
    "\n",
    "fig = px.treemap(temp_Italy, \n",
    "                 path=[\"Country\", \"denominazione_regione\"], values=\"totale_casi\", height=700,\n",
    "                 title='Total Confirmed Cases In Italy',\n",
    "                 color_discrete_sequence = px.colors.qualitative.Prism)\n",
    "fig.data[0].textinfo = 'label+text+value+percent entry'\n",
    "fig.show()\n",
    "\n",
    "fig = px.treemap(temp_Italy, \n",
    "                 path=[\"Country\", \"denominazione_regione\"], values=\"totale_positivi\", height=700,\n",
    "                 title='Number of Currently Positive Cases In Italy',\n",
    "                 color_discrete_sequence = px.colors.qualitative.Prism)\n",
    "fig.data[0].textinfo = 'label+text+value+percent entry'\n",
    "fig.show()\n"
   ]
  },
  {
   "cell_type": "code",
   "execution_count": null,
   "metadata": {
    "_kg_hide-input": true
   },
   "outputs": [],
   "source": [
    "fig = px.treemap(temp_Italy, \n",
    "                 path=[\"Country\", \"denominazione_regione\"], values=\"deceduti\", height=700,\n",
    "                 title='Number of Deaths reported in the Italian Region',\n",
    "                 color_discrete_sequence = px.colors.qualitative.Prism)\n",
    "fig.data[0].textinfo = 'label+text+value+percent parent+percent entry'\n",
    "fig.show()"
   ]
  },
  {
   "cell_type": "markdown",
   "metadata": {},
   "source": [
    "## 2. United States of America\n",
    "\n",
    "Data Credits - https://www.kaggle.com/sudalairajkumar/covid19-in-usa"
   ]
  },
  {
   "cell_type": "code",
   "execution_count": null,
   "metadata": {
    "_kg_hide-input": true,
    "_kg_hide-output": true
   },
   "outputs": [],
   "source": [
    "covid19_USA = pd.read_csv(\"../input/covid19-in-usa/us_states_covid19_daily.csv\")\n",
    "covid19_USA.head(3)"
   ]
  },
  {
   "cell_type": "code",
   "execution_count": null,
   "metadata": {
    "_kg_hide-input": true,
    "_kg_hide-output": true
   },
   "outputs": [],
   "source": [
    "# US Data\n",
    "covid_19_USA = covid_19[covid_19['Country'] == 'US']\n",
    "covid_19_USA = covid_19_USA[covid_19_USA['State'] != 'Grand Princess']\n",
    "covid_19_USA = covid_19_USA[covid_19_USA['State'] != 'Diamond Princess']\n",
    "#covid_19_USA = covid_19_USA[covid_19_USA['State'] != 'Guam']\n",
    "\n",
    "formatted_text('***USA Numbers -***')\n",
    "\n",
    "# Data Glimpse\n",
    "covid_19_USA.head()"
   ]
  },
  {
   "cell_type": "code",
   "execution_count": 1,
   "metadata": {
    "_kg_hide-input": true,
    "_kg_hide-output": true,
    "collapsed": true,
    "jupyter": {
     "outputs_hidden": true
    }
   },
   "outputs": [
    {
     "ename": "NameError",
     "evalue": "name 'covid_19_USA' is not defined",
     "output_type": "error",
     "traceback": [
      "\u001b[0;31m---------------------------------------------------------------------------\u001b[0m",
      "\u001b[0;31mNameError\u001b[0m                                 Traceback (most recent call last)",
      "\u001b[0;32m<ipython-input-1-f1cf45198940>\u001b[0m in \u001b[0;36m<module>\u001b[0;34m\u001b[0m\n\u001b[0;32m----> 1\u001b[0;31m \u001b[0mUSA_statewise_data\u001b[0m \u001b[0;34m=\u001b[0m \u001b[0mcovid_19_USA\u001b[0m\u001b[0;34m.\u001b[0m\u001b[0mgroupby\u001b[0m\u001b[0;34m(\u001b[0m\u001b[0;34m[\u001b[0m\u001b[0;34m'State'\u001b[0m\u001b[0;34m]\u001b[0m\u001b[0;34m)\u001b[0m\u001b[0;34m[\u001b[0m\u001b[0;34m'Confirmed'\u001b[0m\u001b[0;34m,\u001b[0m \u001b[0;34m'Deaths'\u001b[0m\u001b[0;34m,\u001b[0m \u001b[0;34m'Recovered'\u001b[0m\u001b[0;34m]\u001b[0m\u001b[0;34m.\u001b[0m\u001b[0mmax\u001b[0m\u001b[0;34m(\u001b[0m\u001b[0;34m)\u001b[0m\u001b[0;34m\u001b[0m\u001b[0m\n\u001b[0m\u001b[1;32m      2\u001b[0m \u001b[0;34m\u001b[0m\u001b[0m\n\u001b[1;32m      3\u001b[0m \u001b[0mUSA_statewise_data\u001b[0m\u001b[0;34m[\u001b[0m\u001b[0;34m'State'\u001b[0m\u001b[0;34m]\u001b[0m \u001b[0;34m=\u001b[0m \u001b[0mUSA_statewise_data\u001b[0m\u001b[0;34m.\u001b[0m\u001b[0mindex\u001b[0m\u001b[0;34m\u001b[0m\u001b[0m\n\u001b[1;32m      4\u001b[0m \u001b[0mUSA_statewise_data\u001b[0m\u001b[0;34m.\u001b[0m\u001b[0mindex\u001b[0m \u001b[0;34m=\u001b[0m \u001b[0mnp\u001b[0m\u001b[0;34m.\u001b[0m\u001b[0marange\u001b[0m\u001b[0;34m(\u001b[0m\u001b[0;36m1\u001b[0m\u001b[0;34m,\u001b[0m \u001b[0mlen\u001b[0m\u001b[0;34m(\u001b[0m\u001b[0mUSA_statewise_data\u001b[0m\u001b[0;34m.\u001b[0m\u001b[0mState\u001b[0m\u001b[0;34m.\u001b[0m\u001b[0munique\u001b[0m\u001b[0;34m(\u001b[0m\u001b[0;34m)\u001b[0m\u001b[0;34m.\u001b[0m\u001b[0mtolist\u001b[0m\u001b[0;34m(\u001b[0m\u001b[0;34m)\u001b[0m\u001b[0;34m)\u001b[0m\u001b[0;34m+\u001b[0m\u001b[0;36m1\u001b[0m\u001b[0;34m)\u001b[0m\u001b[0;34m\u001b[0m\u001b[0m\n\u001b[1;32m      5\u001b[0m \u001b[0;34m\u001b[0m\u001b[0m\n",
      "\u001b[0;31mNameError\u001b[0m: name 'covid_19_USA' is not defined"
     ]
    }
   ],
   "source": [
    "USA_statewise_data = covid_19_USA.groupby(['State'])['Confirmed', 'Deaths', 'Recovered'].max()\n",
    "\n",
    "USA_statewise_data['State'] = USA_statewise_data.index\n",
    "USA_statewise_data.index = np.arange(1, len(USA_statewise_data.State.unique().tolist())+1)\n",
    "\n",
    "USA_statewise_data = USA_statewise_data[['State','Confirmed', 'Deaths', 'Recovered']]\n",
    "\n",
    "USA_locations = covid_19_USA[['State','Lat','Long']]\n",
    "USA_locations.drop_duplicates(keep='first', inplace=True)\n",
    "\n",
    "USA_statewise_data = pd.merge(USA_statewise_data, USA_locations, on='State')\n",
    "\n",
    "formatted_text('***Country wise numbers of ''Confirmed'', ''Deaths'', ''Recovered'' Cases***')\n",
    "\n",
    "USA_statewise_data.head()"
   ]
  },
  {
   "cell_type": "code",
   "execution_count": null,
   "metadata": {
    "_kg_hide-input": true
   },
   "outputs": [],
   "source": [
    "us_lat = 45\n",
    "us_lon = -115\n",
    "\n",
    "formatted_text('***Click on the pin to veiw details stats***')\n",
    "\n",
    "USAMap = folium.Map(location=[us_lat, us_lon], zoom_start=4, tiles='cartodbpositron')\n",
    "\n",
    "for lat, long, confirmed, deaths, recovered, state in zip(USA_statewise_data['Lat'],\n",
    "                                                           USA_statewise_data['Long'],\n",
    "                                                           USA_statewise_data['Confirmed'],\n",
    "                                                           USA_statewise_data['Deaths'],\n",
    "                                                           USA_statewise_data['Recovered'], \n",
    "                                                           USA_statewise_data['State']):\n",
    "    \n",
    "    if (deaths == 0):\n",
    "        folium.Marker(location=[lat, long]\n",
    "                    , popup = ('<strong>nCov Numbers:</strong> ' + '<br>' + \n",
    "                                 '<strong>State:</strong> ' + str(state).capitalize() + '<br>'\n",
    "                                 '<strong>Total Confirmed:</strong> ' + str(confirmed) + '<br>'\n",
    "                                 '<strong>Deaths:</strong> ' + str(int(deaths)) + '<br>'\n",
    "                                 '<strong>Recovered:</strong> ' + str(int(recovered)) + '<br>')\n",
    "                    , icon=folium.Icon(color='darkblue',icon='info-sign'), color='rgb(55, 83, 109)'\n",
    "                    , tooltip = str(state).capitalize(), fill_color='rgb(55, 83, 109)').add_to(USAMap)\n",
    "    else:\n",
    "        folium.Marker(location=[lat, long]\n",
    "                    , popup = ('<strong>nCov Numbers:</strong> ' + '<br>' + \n",
    "                               \n",
    "                                 '<strong>State:</strong> ' + str(state).capitalize() + '<br>'\n",
    "                                 '<strong>Total Confirmed:</strong> ' + str(confirmed) + '<br>'\n",
    "                                 '<strong>Deaths:</strong> ' + str(int(deaths)) + '<br>'\n",
    "                                 '<strong>Recovered:</strong> ' + str(int(recovered)) + '<br>')\n",
    "                    , icon=folium.Icon(color='red', icon='info-sign'), color='rgb(26, 118, 255)'\n",
    "                    , tooltip = str(state).capitalize(), fill_color='rgb(26, 118, 255)').add_to(USAMap)\n",
    "    \n",
    "    \n",
    "USAMap"
   ]
  },
  {
   "cell_type": "code",
   "execution_count": null,
   "metadata": {
    "_kg_hide-input": true
   },
   "outputs": [],
   "source": [
    "temp_USA = USA_statewise_data.copy()\n",
    "temp_USA['Country'] = 'United States of America' # to have a single root\n",
    "\n",
    "fig = px.treemap(temp_USA, \n",
    "                 path=[\"Country\", \"State\"], values=\"Confirmed\", height=700,\n",
    "                 title='Total Confirmed Cases In USA',\n",
    "                 color_discrete_sequence = px.colors.qualitative.Prism)\n",
    "fig.data[0].textinfo = 'label+text+value+percent entry'\n",
    "fig.show()\n",
    "\n",
    "fig = px.treemap(temp_USA, \n",
    "                 path=[\"Country\", \"State\"], values=\"Deaths\", height=700,\n",
    "                 title='Total Reported Deaths In USA',\n",
    "                 color_discrete_sequence = px.colors.qualitative.Prism)\n",
    "fig.data[0].textinfo = 'label+text+value+percent entry'\n",
    "fig.show()"
   ]
  },
  {
   "cell_type": "markdown",
   "metadata": {},
   "source": [
    "**Washington, Newyork, California, Georgia, Louisinia are amongst the most affected states in the US**"
   ]
  },
  {
   "cell_type": "markdown",
   "metadata": {},
   "source": [
    "## 3. Brazil\n",
    "\n",
    "Data Credits - https://www.kaggle.com/unanimad/corona-virus-brazil <br></br>\n",
    "Brazil Geo Data - https://www.kaggle.com/delimixx/geobrazil"
   ]
  },
  {
   "cell_type": "code",
   "execution_count": null,
   "metadata": {
    "_kg_hide-input": true,
    "_kg_hide-output": true
   },
   "outputs": [],
   "source": [
    "# Brazil Data\n",
    "covid_19_Brazil = covid_19[covid_19['Country'] == 'Brazil']\n",
    "covid_19_Brazil.head()"
   ]
  },
  {
   "cell_type": "code",
   "execution_count": null,
   "metadata": {
    "_kg_hide-input": true,
    "_kg_hide-output": true
   },
   "outputs": [],
   "source": [
    "# Brazil Data\n",
    "covid_Brazil = pd.read_csv(\"../input/corona-virus-brazil/brazil_covid19.csv\")\n",
    "#covid_Brazil\n",
    "brazil_statewise_data = covid_Brazil.groupby(['state'])['cases', 'deaths'].max()\n",
    "#brazil_statewise_data\n",
    "\n",
    "brazil_statewise_data['state'] = brazil_statewise_data.index\n",
    "brazil_statewise_data.index = np.arange(1, len(brazil_statewise_data.state.unique().tolist())+1)\n",
    "brazil_statewise_data = brazil_statewise_data[['state', 'cases', 'deaths']]\n",
    "\n",
    "geoBrazil = pd.read_csv(\"../input/brazilianstates/states.csv\")\n",
    "\n",
    "# rename state to State\n",
    "geoBrazil.rename(columns={'State': 'state'}, inplace=True)\n",
    "brazilian_statewise_data = pd.merge(brazil_statewise_data, geoBrazil, on='state')\n",
    "\n",
    "#brazilian_statewise_data.drop(['uf', 'population'], axis=1, inplace=True)\n",
    "brazilian_statewise_data"
   ]
  },
  {
   "cell_type": "code",
   "execution_count": null,
   "metadata": {
    "_kg_hide-input": true
   },
   "outputs": [],
   "source": [
    "brazil_lat = -14.235\n",
    "brazil_lon = -51.9253\n",
    "\n",
    "formatted_text('***Click on the pin to veiw details stats***')\n",
    "\n",
    "BrazilMap = folium.Map(location=[brazil_lat, brazil_lon], zoom_start=4, tiles='cartodbpositron')\n",
    "\n",
    "for lat, long, confirmed, deaths, state in zip(brazilian_statewise_data['Latitude'],\n",
    "                                                           brazilian_statewise_data['Longitude'],\n",
    "                                                           brazilian_statewise_data['cases'],\n",
    "                                                           brazilian_statewise_data['deaths'],\n",
    "                                                           brazilian_statewise_data['state']):\n",
    "    \n",
    "    if (deaths == 0):\n",
    "        folium.Marker(location=[lat, long]\n",
    "                    , popup = ('<strong>nCov Numbers:</strong> ' + '<br>' + \n",
    "                                 '<strong>State:</strong> ' + str(state).capitalize() + '<br>'\n",
    "                                 '<strong>Confirmed Cases:</strong> ' + str(int(confirmed)) + '<br>'\n",
    "                                 '<strong>Deaths Reported:</strong> ' + str(int(deaths)) + '<br>')\n",
    "                    , icon=folium.Icon(color='darkblue',icon='info-sign'), color='rgb(55, 83, 109)'\n",
    "                    , tooltip = str(state).capitalize(), fill_color='rgb(55, 83, 109)').add_to(BrazilMap)\n",
    "    else:\n",
    "        folium.Marker(location=[lat, long]\n",
    "                    , popup = ('<strong>nCov Numbers:</strong> ' + '<br>' + \n",
    "                               \n",
    "                                 '<strong>State:</strong> ' + str(state).capitalize() + '<br>'\n",
    "                                 '<strong>Confirmed Cases:</strong> ' + str(int(confirmed)) + '<br>'\n",
    "                                 '<strong>Deaths Reported:</strong> ' + str(int(deaths)) + '<br>')\n",
    "                    , icon=folium.Icon(color='red', icon='info-sign'), color='rgb(26, 118, 255)'\n",
    "                    , tooltip = str(state).capitalize(), fill_color='rgb(26, 118, 255)').add_to(BrazilMap)\n",
    "    \n",
    "    \n",
    "BrazilMap"
   ]
  },
  {
   "cell_type": "code",
   "execution_count": null,
   "metadata": {
    "_kg_hide-input": true
   },
   "outputs": [],
   "source": [
    "temp_Brazil = brazil_statewise_data.copy()\n",
    "temp_Brazil['Country'] = 'Brazil' # to have a single root\n",
    "\n",
    "fig = px.treemap(temp_Brazil, \n",
    "                 path=[\"Country\", \"state\"], values=\"cases\", height=700,\n",
    "                 title='Total Confirmed Cases In Brazil',\n",
    "                 color_discrete_sequence = px.colors.qualitative.Prism)\n",
    "fig.data[0].textinfo = 'label+text+value+percent entry'\n",
    "fig.show()\n",
    "\n",
    "fig = px.treemap(temp_Brazil, \n",
    "                 path=[\"Country\", \"state\"], values=\"deaths\", height=700,\n",
    "                 title='Total Reported Deaths In Brazil',\n",
    "                 color_discrete_sequence = px.colors.qualitative.Prism)\n",
    "fig.data[0].textinfo = 'label+text+value+percent entry'\n",
    "fig.show()"
   ]
  },
  {
   "cell_type": "markdown",
   "metadata": {},
   "source": [
    "**Sao Polo has been the worst affected state in Brazil reporting a majority of 56% of the cases so far.**"
   ]
  },
  {
   "cell_type": "markdown",
   "metadata": {},
   "source": [
    "## 4. South Korea"
   ]
  },
  {
   "cell_type": "code",
   "execution_count": null,
   "metadata": {
    "_kg_hide-input": true,
    "_kg_hide-output": true
   },
   "outputs": [],
   "source": [
    "SKor_Covid_19 = pd.read_csv('/kaggle/input/coronavirusdataset/Case.csv')\n",
    "SKor_Covid_19.head()"
   ]
  },
  {
   "cell_type": "code",
   "execution_count": null,
   "metadata": {
    "_kg_hide-input": true,
    "_kg_hide-output": true
   },
   "outputs": [],
   "source": [
    "SKor_Covid_19.province.unique()"
   ]
  },
  {
   "cell_type": "code",
   "execution_count": null,
   "metadata": {
    "_kg_hide-input": true,
    "_kg_hide-output": true
   },
   "outputs": [],
   "source": [
    "SKor_Covid_19.city.unique()"
   ]
  },
  {
   "cell_type": "markdown",
   "metadata": {},
   "source": [
    "**We have some cities not recorded. Their spayial location details are also missing. We will denote those as 'Others' and set the spatial location to that of South Korea (Coutries latitude and longitude)**"
   ]
  },
  {
   "cell_type": "code",
   "execution_count": null,
   "metadata": {
    "_kg_hide-input": true,
    "_kg_hide-output": true
   },
   "outputs": [],
   "source": [
    "### Convert 'from other city', '-' in cities to 'Others'\n",
    "SKor_Covid_19['city'] = np.where(SKor_Covid_19['city'] == '-', 'Others', SKor_Covid_19['city'])\n",
    "SKor_Covid_19['city'] = np.where(SKor_Covid_19['city'] == 'from other city', 'Others', SKor_Covid_19['city'])\n",
    "SKor_Covid_19.city.unique()"
   ]
  },
  {
   "cell_type": "code",
   "execution_count": null,
   "metadata": {
    "_kg_hide-input": true,
    "_kg_hide-output": true
   },
   "outputs": [],
   "source": [
    "SKor_Covid_19['latitude'] = np.where(SKor_Covid_19['latitude'] == '-', '37.00', SKor_Covid_19['latitude'])\n",
    "SKor_Covid_19['longitude'] = np.where(SKor_Covid_19['longitude'] == '-', '127.30', SKor_Covid_19['longitude'])\n",
    "\n",
    "SKor_location_data = SKor_Covid_19.drop_duplicates(subset = \"city\", keep = 'first', inplace = False)\n",
    "\n",
    "SKor_location_data = SKor_location_data[['city', 'latitude', 'longitude']]"
   ]
  },
  {
   "cell_type": "code",
   "execution_count": null,
   "metadata": {
    "_kg_hide-input": true,
    "_kg_hide-output": true
   },
   "outputs": [],
   "source": [
    "SKorea_citywise_data = pd.DataFrame(SKor_Covid_19.groupby(['city'], as_index=False)['confirmed'].sum())\n",
    "SKorea_citywise_data = pd.merge(SKorea_citywise_data, SKor_location_data, on='city')\n",
    "\n",
    "SKorea_citywise_data"
   ]
  },
  {
   "cell_type": "code",
   "execution_count": null,
   "metadata": {
    "_kg_hide-input": true
   },
   "outputs": [],
   "source": [
    "SKorea_lat = 36.00\n",
    "SKorea_Lon = 127.30\n",
    "\n",
    "formatted_text('***Click on the pin to veiw details stats***')\n",
    "\n",
    "SKoreaMap = folium.Map(location=[SKorea_lat, SKorea_Lon], zoom_start=7, tiles='cartodbpositron')\n",
    "\n",
    "for lat, long, confirmed, city in zip(SKorea_citywise_data['latitude'],\n",
    "                                                           SKorea_citywise_data['longitude'],\n",
    "                                                           SKorea_citywise_data['confirmed'],\n",
    "                                                           SKorea_citywise_data['city']):  \n",
    "    folium.Marker(location=[lat, long]\n",
    "                  , popup = ('<strong>nCov Numbers:</strong> ' + '<br>' + \n",
    "                             '<strong>State:</strong> ' + str(city).capitalize() + '<br>'\n",
    "                             '<strong>Total Confirmed:</strong> ' + str(confirmed) + '<br>')\n",
    "                             ,icon=folium.Icon(color='blue', icon='info-sign'), color='rgb(26, 118, 255)'\n",
    "                  , tooltip = str(city).capitalize(), fill_color='rgb(26, 118, 255)').add_to(SKoreaMap)\n",
    "    \n",
    "SKoreaMap    "
   ]
  }
 ],
 "metadata": {
  "kernelspec": {
   "display_name": "Python 3",
   "language": "python",
   "name": "python3"
  },
  "language_info": {
   "codemirror_mode": {
    "name": "ipython",
    "version": 3
   },
   "file_extension": ".py",
   "mimetype": "text/x-python",
   "name": "python",
   "nbconvert_exporter": "python",
   "pygments_lexer": "ipython3",
   "version": "3.7.6"
  }
 },
 "nbformat": 4,
 "nbformat_minor": 4
}
